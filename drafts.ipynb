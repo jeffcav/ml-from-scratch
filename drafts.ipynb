{
 "cells": [
  {
   "cell_type": "code",
   "execution_count": null,
   "metadata": {},
   "outputs": [],
   "source": [
    "import numpy as np\n",
    "from ml.algorithms.optimization import GradientDescent, StochasticGradientDescent\n",
    "from ml.algorithms.normalization import MinMaxScaler\n",
    "from ml.models.linear import PolynomialRegression, LinearRegression"
   ]
  },
  {
   "cell_type": "code",
   "execution_count": null,
   "metadata": {},
   "outputs": [],
   "source": [
    "linear_weights_expected = np.array([[2.0, 3.0]])\n",
    "\n",
    "x = np.array([\n",
    "    [3.0], \n",
    "    [6.0], \n",
    "    [7.0]\n",
    "])\n",
    "y = np.array([\n",
    "    [11.0], \n",
    "    [20.0], \n",
    "    [23.0]\n",
    "])\n",
    "\n",
    "epochs = 5000\n",
    "learning_rate = 0.05\n",
    "regularization = 0"
   ]
  },
  {
   "cell_type": "code",
   "execution_count": null,
   "metadata": {},
   "outputs": [],
   "source": [
    "def polyreg(x, y, solver, epochs, learning_rate, regularization):\n",
    "    regressor = PolynomialRegression(2)\n",
    "    regressor.fit(x, y, solver, epochs, learning_rate, regularization, scaler=MinMaxScaler)\n",
    "\n",
    "    print(\"Learned parameters: \", regressor.weights(0), \"Expected: \", \"??\")\n",
    "\n",
    "\n",
    "gd = GradientDescent()\n",
    "polyreg(x, y, gd, epochs, learning_rate, regularization)\n",
    "\n",
    "sgd = StochasticGradientDescent()\n",
    "polyreg(x, y, sgd, epochs, learning_rate, regularization)"
   ]
  },
  {
   "cell_type": "code",
   "execution_count": null,
   "metadata": {},
   "outputs": [],
   "source": [
    "def linreg(x, y, solver, epochs, learning_rate, regularization):\n",
    "    regressor = LinearRegression()\n",
    "    regressor.fit(x, y, solver, epochs, learning_rate, regularization)\n",
    "\n",
    "    print(\"Learned parameters: \", regressor.weights(0), \"Expected: \", linear_weights_expected)\n",
    "\n",
    "gd = GradientDescent()\n",
    "linreg(x, y, gd, epochs, learning_rate, regularization)"
   ]
  },
  {
   "cell_type": "code",
   "execution_count": null,
   "metadata": {},
   "outputs": [],
   "source": [
    "import numpy as np\n",
    "from ml.dataset import load_csv, split_train_test\n",
    "\n",
    "np.random.seed(3)\n",
    "\n",
    "X, y = load_csv('./datasets/california.csv')\n",
    "X_train, y_train, X_test, y_test = split_train_test(X, y, 0.8, shuffle=True)"
   ]
  },
  {
   "cell_type": "code",
   "execution_count": null,
   "metadata": {},
   "outputs": [],
   "source": [
    "import numpy as np\n",
    "\n",
    "from ml.model_selection import GridSearchCV\n",
    "from ml.models.linear import PolynomialRegression\n",
    "\n",
    "from ml.algorithms.normalization import MinMaxScaler\n",
    "from ml.algorithms.optimization import GradientDescent, OrdinaryLeastSquares\n",
    "\n",
    "grid = GridSearchCV()\n",
    "\n",
    "for p in [3, 2, 1, 4]:\n",
    "    for lr in [0.2, 0.3, 0.1]:\n",
    "        grid.add(\n",
    "            PolynomialRegression, {\n",
    "                \"solver\": GradientDescent(epochs=4000, learning_rate=0.1, regularization=0.0), \n",
    "                \"degree\": p,\n",
    "                \"dataScaler\": MinMaxScaler\n",
    "            }\n",
    "        )\n",
    "\n",
    "    # grid.add(\n",
    "    #     PolynomialRegression, {\n",
    "    #         \"solver\": OrdinaryLeastSquares(regularization=0.0), \n",
    "    #         \"degree\": p,\n",
    "    #         \"dataScaler\": MinMaxScaler\n",
    "    #     }\n",
    "    # )\n",
    "\n",
    "best = grid.search(X_train, y_train, num_folds=4, shuffle=True)\n",
    "print(\"Best model:\", best)\n",
    "print(\"Learning rate:\", best[1]['solver'].learning_rate)"
   ]
  },
  {
   "cell_type": "code",
   "execution_count": null,
   "metadata": {},
   "outputs": [],
   "source": [
    "from ml.stats import rmse\n",
    "\n",
    "model = best[0]\n",
    "model_args = best[1]\n",
    "poly = model(**model_args)\n",
    "\n",
    "poly.fit(X_train, y_train)\n",
    "print(rmse(y_test, poly.predict(X_test)))"
   ]
  },
  {
   "cell_type": "code",
   "execution_count": null,
   "metadata": {},
   "outputs": [],
   "source": [
    "for i in range(len(grid.candidates)):\n",
    "    model = grid.candidates[i][0]\n",
    "    model_args = grid.candidates[i][1]\n",
    "    poly = model(**model_args)\n",
    "\n",
    "    poly.fit(X_train, y_train)\n",
    "    print(rmse(y_test, poly.predict(X_test)))"
   ]
  }
 ],
 "metadata": {
  "interpreter": {
   "hash": "916dbcbb3f70747c44a77c7bcd40155683ae19c65e1c03b4aa3499c5328201f1"
  },
  "kernelspec": {
   "display_name": "Python 3.8.10 64-bit",
   "language": "python",
   "name": "python3"
  },
  "language_info": {
   "codemirror_mode": {
    "name": "ipython",
    "version": 3
   },
   "file_extension": ".py",
   "mimetype": "text/x-python",
   "name": "python",
   "nbconvert_exporter": "python",
   "pygments_lexer": "ipython3",
   "version": "3.8.10"
  },
  "orig_nbformat": 4
 },
 "nbformat": 4,
 "nbformat_minor": 2
}
