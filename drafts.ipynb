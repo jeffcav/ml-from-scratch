{
 "cells": [
  {
   "cell_type": "code",
   "execution_count": null,
   "metadata": {},
   "outputs": [],
   "source": [
    "import numpy as np\n",
    "from ml.algorithms.optimization import GradientDescent, StochasticGradientDescent\n",
    "from ml.algorithms.normalization import MinMaxScaler\n",
    "from ml.models.linear import PolynomialRegression, LinearRegression"
   ]
  },
  {
   "cell_type": "code",
   "execution_count": null,
   "metadata": {},
   "outputs": [],
   "source": [
    "linear_weights_expected = np.array([[2.0, 3.0]])\n",
    "\n",
    "x = np.array([\n",
    "    [3.0], \n",
    "    [6.0], \n",
    "    [7.0]\n",
    "])\n",
    "y = np.array([\n",
    "    [11.0], \n",
    "    [20.0], \n",
    "    [23.0]\n",
    "])\n",
    "\n",
    "epochs = 5000\n",
    "learning_rate = 0.05\n",
    "regularization = 0"
   ]
  },
  {
   "cell_type": "code",
   "execution_count": null,
   "metadata": {},
   "outputs": [],
   "source": [
    "def polyreg(x, y, solver, epochs, learning_rate, regularization):\n",
    "    regressor = PolynomialRegression(2)\n",
    "    regressor.fit(x, y, solver, epochs, learning_rate, regularization, scaler=MinMaxScaler)\n",
    "\n",
    "    print(\"Learned parameters: \", regressor.weights(0), \"Expected: \", \"??\")\n",
    "\n",
    "\n",
    "gd = GradientDescent()\n",
    "polyreg(x, y, gd, epochs, learning_rate, regularization)\n",
    "\n",
    "sgd = StochasticGradientDescent()\n",
    "polyreg(x, y, sgd, epochs, learning_rate, regularization)"
   ]
  },
  {
   "cell_type": "code",
   "execution_count": null,
   "metadata": {},
   "outputs": [],
   "source": [
    "def linreg(x, y, solver, epochs, learning_rate, regularization):\n",
    "    regressor = LinearRegression()\n",
    "    regressor.fit(x, y, solver, epochs, learning_rate, regularization)\n",
    "\n",
    "    print(\"Learned parameters: \", regressor.weights(0), \"Expected: \", linear_weights_expected)\n",
    "\n",
    "gd = GradientDescent()\n",
    "linreg(x, y, gd, epochs, learning_rate, regularization)"
   ]
  },
  {
   "cell_type": "code",
   "execution_count": null,
   "metadata": {},
   "outputs": [],
   "source": []
  }
 ],
 "metadata": {
  "interpreter": {
   "hash": "916dbcbb3f70747c44a77c7bcd40155683ae19c65e1c03b4aa3499c5328201f1"
  },
  "kernelspec": {
   "display_name": "Python 3.8.10 64-bit",
   "language": "python",
   "name": "python3"
  },
  "language_info": {
   "codemirror_mode": {
    "name": "ipython",
    "version": 3
   },
   "file_extension": ".py",
   "mimetype": "text/x-python",
   "name": "python",
   "nbconvert_exporter": "python",
   "pygments_lexer": "ipython3",
   "version": "3.8.10"
  },
  "orig_nbformat": 4
 },
 "nbformat": 4,
 "nbformat_minor": 2
}
