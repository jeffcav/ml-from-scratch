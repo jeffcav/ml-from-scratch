{
 "cells": [
  {
   "cell_type": "markdown",
   "metadata": {},
   "source": [
    "## Logistic regression"
   ]
  },
  {
   "cell_type": "code",
   "execution_count": null,
   "metadata": {},
   "outputs": [],
   "source": [
    "from ml.dataset import load_csv, split_train_test\n",
    "\n",
    "import numpy as np\n",
    "import matplotlib.pyplot as plt\n",
    "\n",
    "np.random.seed(25)"
   ]
  },
  {
   "cell_type": "code",
   "execution_count": null,
   "metadata": {},
   "outputs": [],
   "source": [
    "X, y = load_csv('./datasets/breastcancer.csv')\n",
    "X_train, y_train, X_test, y_test = split_train_test(X, y, 0.8, shuffle=True)"
   ]
  },
  {
   "cell_type": "code",
   "execution_count": null,
   "metadata": {},
   "outputs": [],
   "source": [
    "def prob_class_k(self, outputs, num_classes):\n",
    "    self.pck = np.ones(num_classes)\n",
    "\n",
    "np.ones((2,1)).shape"
   ]
  },
  {
   "cell_type": "code",
   "execution_count": null,
   "metadata": {},
   "outputs": [],
   "source": [
    "x = np.array([[0.64, 0.13, 0.34], [0.27, 0.55, 0.9], [0.75, 0.6, 0.78], [0.46, 0.92, 0.55], [0.8, 0.4, 0.3], [0.6, 0.7, 0.1]])\n",
    "y = np.array([0, 0, 1, 1, 2, 2])\n"
   ]
  },
  {
   "cell_type": "code",
   "execution_count": null,
   "metadata": {},
   "outputs": [],
   "source": [
    "import numpy as np\n",
    "from ml.models.base import AbstractModel\n",
    "from ml.algorithms.normalization import IdentityScaler\n",
    "\n",
    "class GaussianDiscriminantAnalysis(AbstractModel):\n",
    "\n",
    "    def __init__(self, dataScaler=IdentityScaler):\n",
    "        params = None\n",
    "        super(GaussianDiscriminantAnalysis, self).__init__(params)\n",
    "\n",
    "    def compute_classes_probabilities(self, outputs):\n",
    "        _, count_class_k = np.unique(outputs, return_counts=True)\n",
    "        return count_class_k / outputs.shape[0]\n",
    "\n",
    "    def compute_cov_matrices(self, inputs, outputs):\n",
    "        cov_matrices = np.array([np.cov(inputs[outputs == 0], rowvar=False)])\n",
    "        for class_k in range(1, np.max(outputs) + 1):\n",
    "            covariance_matrix = np.cov(inputs[outputs == class_k], rowvar=False)\n",
    "            cov_matrices = np.concatenate([cov_matrices, [covariance_matrix]])\n",
    "\n",
    "        return cov_matrices\n",
    "\n",
    "    def compute_means(self, inputs, outputs):\n",
    "        means = np.array(np.mean(inputs[outputs == 0], axis=0, keepdims=True))\n",
    "        for class_k in range(1, np.max(outputs) + 1):\n",
    "            mean_k = np.mean(inputs[outputs == class_k], axis=0, keepdims=True)\n",
    "            means = np.concatenate([means, mean_k])\n",
    "\n",
    "        return means\n",
    "\n",
    "\n",
    "    def fit(self, inputs, outputs):\n",
    "        self.prob_classes = self.compute_classes_probabilities(outputs)\n",
    "        self.cov_matrices = self.compute_cov_matrices(inputs, outputs)\n",
    "        self.means = self.compute_means(inputs, outputs)\n",
    "\n",
    "        self.trained = True\n",
    "\n",
    "    def predict(self, x):\n",
    "        p0 = np.log(self.prob_classes)\n",
    "\n",
    "        p1 = -1/2 * np.log(np.linalg.det(self.cov_matrices))\n",
    "        \n",
    "        distance_from_mean = x - self.means\n",
    "        p2 = -1/2 * (distance_from_mean @ np.linalg.pinv(self.cov_matrices) @ distance_from_mean.T)\n",
    "\n",
    "        return np.argmax(p0 + p1 + p2)\n"
   ]
  },
  {
   "cell_type": "code",
   "execution_count": null,
   "metadata": {},
   "outputs": [],
   "source": [
    "gda = GaussianDiscriminantAnalysis()\n",
    "gda.fit(x, y)\n",
    "print(gda.predict(x))"
   ]
  }
 ],
 "metadata": {
  "interpreter": {
   "hash": "ca48a1217c93acd9388dba04a449e77fab73d12f699c89515157fda392110c7b"
  },
  "kernelspec": {
   "display_name": "Python 3.8.10 ('env': venv)",
   "language": "python",
   "name": "python3"
  },
  "language_info": {
   "codemirror_mode": {
    "name": "ipython",
    "version": 3
   },
   "file_extension": ".py",
   "mimetype": "text/x-python",
   "name": "python",
   "nbconvert_exporter": "python",
   "pygments_lexer": "ipython3",
   "version": "3.8.10"
  },
  "orig_nbformat": 4
 },
 "nbformat": 4,
 "nbformat_minor": 2
}
