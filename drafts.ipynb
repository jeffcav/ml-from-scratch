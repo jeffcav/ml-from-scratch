{
 "cells": [
  {
   "cell_type": "code",
   "execution_count": null,
   "metadata": {},
   "outputs": [],
   "source": [
    "import numpy as np\n",
    "from ml.algorithms.optimization import GradientDescent, StochasticGradientDescent\n",
    "from ml.algorithms.normalization import MinMaxScaler\n",
    "from ml.models.linear import PolynomialRegression, LinearRegression"
   ]
  },
  {
   "cell_type": "code",
   "execution_count": null,
   "metadata": {},
   "outputs": [],
   "source": [
    "linear_weights_expected = np.array([[2.0, 3.0]])\n",
    "\n",
    "x = np.array([\n",
    "    [3.0], \n",
    "    [6.0], \n",
    "    [7.0]\n",
    "])\n",
    "y = np.array([\n",
    "    [11.0], \n",
    "    [20.0], \n",
    "    [23.0]\n",
    "])\n",
    "\n",
    "epochs = 5000\n",
    "learning_rate = 0.05\n",
    "regularization = 0"
   ]
  },
  {
   "cell_type": "code",
   "execution_count": null,
   "metadata": {},
   "outputs": [],
   "source": [
    "def polyreg(x, y, solver, epochs, learning_rate, regularization):\n",
    "    regressor = PolynomialRegression(2)\n",
    "    regressor.fit(x, y, solver, epochs, learning_rate, regularization, scaler=MinMaxScaler)\n",
    "\n",
    "    print(\"Learned parameters: \", regressor.weights(0), \"Expected: \", \"??\")\n",
    "\n",
    "\n",
    "gd = GradientDescent()\n",
    "polyreg(x, y, gd, epochs, learning_rate, regularization)\n",
    "\n",
    "sgd = StochasticGradientDescent()\n",
    "polyreg(x, y, sgd, epochs, learning_rate, regularization)"
   ]
  },
  {
   "cell_type": "code",
   "execution_count": null,
   "metadata": {},
   "outputs": [],
   "source": [
    "def linreg(x, y, solver, epochs, learning_rate, regularization):\n",
    "    regressor = LinearRegression()\n",
    "    regressor.fit(x, y, solver, epochs, learning_rate, regularization)\n",
    "\n",
    "    print(\"Learned parameters: \", regressor.weights(0), \"Expected: \", linear_weights_expected)\n",
    "\n",
    "gd = GradientDescent()\n",
    "linreg(x, y, gd, epochs, learning_rate, regularization)"
   ]
  },
  {
   "cell_type": "code",
   "execution_count": 1,
   "metadata": {},
   "outputs": [
    {
     "name": "stdout",
     "output_type": "stream",
     "text": [
      "0.9693875705798392\n",
      "0.9693875705798392\n",
      "0.9174173096105974\n",
      "0.9074101736538092\n",
      "0.8924403424606517\n",
      "0.8897872991890744\n",
      "0.8812200177310067\n",
      "0.8908975664553276\n",
      "0.9520216908289276\n",
      "1.2551047951259307\n"
     ]
    }
   ],
   "source": [
    "from ml.algorithms.tuning import GridSearch\n",
    "from ml.algorithms.optimization import GradientDescent\n",
    "from ml.algorithms.normalization import MinMaxScaler\n",
    "from ml.models.linear import PolynomialRegression\n",
    "from ml.dataset import load_csv, split_train_test\n",
    "\n",
    "X, y = load_csv('./datasets/california.csv')\n",
    "X_train, y_train, X_test, y_test = split_train_test(X, y, 0.8, shuffle=True)\n",
    "\n",
    "# find best P\n",
    "for p in range(10):\n",
    "    grid = GridSearch()\n",
    "    \n",
    "    solver = GradientDescent(epochs=2000, learning_rate=0.01, regularization=0.001)\n",
    "    grid.add(\n",
    "        PolynomialRegression, {\"solver\": solver, \"degree\": p, \"dataScaler\": MinMaxScaler}\n",
    "    )\n",
    "\n",
    "    grid.search(X_train, y_train, 10)"
   ]
  },
  {
   "cell_type": "code",
   "execution_count": 12,
   "metadata": {},
   "outputs": [
    {
     "name": "stdout",
     "output_type": "stream",
     "text": [
      "p1: [0 1 2]\n",
      "p2 [2 0 1]\n",
      "[[3.]\n",
      " [6.]\n",
      " [7.]] [[7.]\n",
      " [3.]\n",
      " [6.]]\n"
     ]
    }
   ],
   "source": [
    "import numpy as np\n",
    "\n",
    "x = np.array([\n",
    "    [3.0], \n",
    "    [6.0], \n",
    "    [7.0]\n",
    "])\n",
    "\n",
    "p1 = np.arange(3)\n",
    "p2 = np.array([2, 0, 1])\n",
    "\n",
    "print(\"p1:\", p1)\n",
    "print(\"p2\", p2)\n",
    "print(x[p1], x[p2])"
   ]
  },
  {
   "cell_type": "code",
   "execution_count": 22,
   "metadata": {},
   "outputs": [
    {
     "name": "stdout",
     "output_type": "stream",
     "text": [
      "[ 0  1  2  3  4  5  6  7  8  9 10 11 12 13 14 15 16 17 18 19]\n",
      "[10 11 12 13 14 15 16 17 18 19]\n"
     ]
    }
   ],
   "source": [
    "a = np.arange(20)\n",
    "a\n",
    "print(a)\n",
    "print(a[-10:])"
   ]
  }
 ],
 "metadata": {
  "interpreter": {
   "hash": "916dbcbb3f70747c44a77c7bcd40155683ae19c65e1c03b4aa3499c5328201f1"
  },
  "kernelspec": {
   "display_name": "Python 3.8.10 64-bit",
   "language": "python",
   "name": "python3"
  },
  "language_info": {
   "codemirror_mode": {
    "name": "ipython",
    "version": 3
   },
   "file_extension": ".py",
   "mimetype": "text/x-python",
   "name": "python",
   "nbconvert_exporter": "python",
   "pygments_lexer": "ipython3",
   "version": "3.8.10"
  },
  "orig_nbformat": 4
 },
 "nbformat": 4,
 "nbformat_minor": 2
}
