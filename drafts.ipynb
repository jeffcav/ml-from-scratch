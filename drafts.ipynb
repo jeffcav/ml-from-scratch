{
 "cells": [
  {
   "cell_type": "code",
   "execution_count": null,
   "metadata": {},
   "outputs": [],
   "source": [
    "import numpy as np\n",
    "from ml.algorithms.optimization import GradientDescent, StochasticGradientDescent\n",
    "from ml.algorithms.normalization import MinMaxScaler\n",
    "from ml.models.linear import PolynomialRegression, LinearRegression"
   ]
  },
  {
   "cell_type": "code",
   "execution_count": null,
   "metadata": {},
   "outputs": [],
   "source": [
    "import numpy as np\n",
    "\n",
    "from ml.model_selection import GridSearchCV\n",
    "from ml.models.linear import PolynomialRegression\n",
    "\n",
    "from ml.algorithms.normalization import MinMaxScaler\n",
    "from ml.algorithms.optimization import GradientDescent, OrdinaryLeastSquares\n",
    "\n",
    "grid = GridSearchCV()\n",
    "\n",
    "for p in [3, 2, 1]:\n",
    "    for lr in [0.1, 0.05]:\n",
    "        grid.add(\n",
    "            PolynomialRegression, {\n",
    "                \"solver\": GradientDescent(epochs=4000, learning_rate=lr, regularization=0.001), \n",
    "                \"degree\": p,\n",
    "                \"dataScaler\": MinMaxScaler\n",
    "            }\n",
    "        )\n",
    "\n",
    "    # grid.add(\n",
    "    #     PolynomialRegression, {\n",
    "    #         \"solver\": OrdinaryLeastSquares(regularization=0.0), \n",
    "    #         \"degree\": p,\n",
    "    #         \"dataScaler\": MinMaxScaler\n",
    "    #     }\n",
    "    # )\n",
    "\n",
    "best = grid.search(X_train, y_train, num_folds=4, shuffle=True)\n",
    "print(\"Best model:\", best)\n",
    "print(\"Learning rate:\", best[1]['solver'].learning_rate)"
   ]
  },
  {
   "cell_type": "code",
   "execution_count": null,
   "metadata": {},
   "outputs": [],
   "source": [
    "from ml.stats import rmse\n",
    "\n",
    "model = best[0]\n",
    "model_args = best[1]\n",
    "poly = model(**model_args)\n",
    "\n",
    "poly.fit(X_train, y_train)\n",
    "print(rmse(y_test, poly.predict(X_test)))"
   ]
  },
  {
   "cell_type": "code",
   "execution_count": null,
   "metadata": {},
   "outputs": [],
   "source": [
    "for i in range(len(grid.candidates)):\n",
    "    model = grid.candidates[i][0]\n",
    "    model_args = grid.candidates[i][1]\n",
    "    poly = model(**model_args)\n",
    "\n",
    "    poly.fit(X_train, y_train)\n",
    "    print(rmse(y_test, poly.predict(X_test)))"
   ]
  },
  {
   "cell_type": "markdown",
   "metadata": {},
   "source": [
    "## Logistic regression"
   ]
  },
  {
   "cell_type": "code",
   "execution_count": null,
   "metadata": {},
   "outputs": [],
   "source": [
    "from ml.dataset import load_csv, split_train_test\n",
    "\n",
    "from ml.models.linear import LogisticRegression\n",
    "from ml.algorithms.normalization import MinMaxScaler\n",
    "from ml.algorithms.optimization import GradientDescent\n",
    "\n",
    "from ml.functions.metrics.classification import BinaryAccuracy, F1Score\n",
    "\n",
    "import numpy as np\n",
    "import matplotlib.pyplot as plt\n",
    "\n",
    "np.random.seed(25)"
   ]
  },
  {
   "cell_type": "code",
   "execution_count": null,
   "metadata": {},
   "outputs": [],
   "source": [
    "X, y = load_csv('./datasets/breastcancer.csv')\n",
    "X_train, y_train, X_test, y_test = split_train_test(X, y, 0.8, shuffle=True)"
   ]
  },
  {
   "cell_type": "code",
   "execution_count": null,
   "metadata": {},
   "outputs": [],
   "source": [
    "epochs = 5000\n",
    "learning_rate = 0.05\n",
    "regularization = 0.0\n",
    "\n",
    "gd = GradientDescent(epochs, learning_rate, regularization, metrics=BinaryAccuracy())"
   ]
  },
  {
   "cell_type": "code",
   "execution_count": null,
   "metadata": {},
   "outputs": [],
   "source": [
    "lr = LogisticRegression(gd, dataScaler=MinMaxScaler)\n",
    "train_acc = lr.fit(X_train, y_train)\n",
    "\n",
    "plt.plot(train_acc)\n",
    "plt.show()"
   ]
  },
  {
   "cell_type": "code",
   "execution_count": null,
   "metadata": {},
   "outputs": [],
   "source": [
    "y_hat = lr.predict(X_test)\n",
    "test_accuracy = BinaryAccuracy().measure(y_test, y_hat)\n",
    "print(test_accuracy)"
   ]
  },
  {
   "cell_type": "code",
   "execution_count": null,
   "metadata": {},
   "outputs": [],
   "source": [
    "y_hat_rounded = np.round(y_hat)\n",
    "f1 = F1Score().measure(y_test, y_hat_rounded)\n",
    "print(f1)"
   ]
  }
 ],
 "metadata": {
  "interpreter": {
   "hash": "916dbcbb3f70747c44a77c7bcd40155683ae19c65e1c03b4aa3499c5328201f1"
  },
  "kernelspec": {
   "display_name": "Python 3.8.10 64-bit",
   "language": "python",
   "name": "python3"
  },
  "language_info": {
   "codemirror_mode": {
    "name": "ipython",
    "version": 3
   },
   "file_extension": ".py",
   "mimetype": "text/x-python",
   "name": "python",
   "nbconvert_exporter": "python",
   "pygments_lexer": "ipython3",
   "version": "3.8.10"
  },
  "orig_nbformat": 4
 },
 "nbformat": 4,
 "nbformat_minor": 2
}
