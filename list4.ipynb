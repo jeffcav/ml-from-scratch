{
 "cells": [
  {
   "cell_type": "code",
   "execution_count": 3,
   "metadata": {},
   "outputs": [],
   "source": [
    "# model implementation\n",
    "from ml.models.nn import MLP\n",
    "from ml.algorithms.optimization import BackpropSGD\n",
    "from ml.functions.activation import Sigmoid, Identity, Relu\n",
    "\n",
    "# model selection\n",
    "from ml.model_selection import GridSearchCV\n",
    "\n",
    "from ml.functions.metrics.classification import F1Score, BinaryAccuracy\n",
    "from ml.functions.metrics.regression import RMSE, MAE, MRE\n",
    "\n",
    "from ml.stats import ClassificationStats\n",
    "\n",
    "# data manipulation\n",
    "from ml.dataset import load_csv, split_train_test\n",
    "from ml.algorithms.normalization import MinMaxScaler\n",
    "\n",
    "# Utility\n",
    "import numpy as np\n",
    "import matplotlib.pyplot as plt\n",
    "\n",
    "np.random.seed(25)"
   ]
  },
  {
   "cell_type": "markdown",
   "metadata": {},
   "source": [
    "## Q1 - Neural Net for regression"
   ]
  },
  {
   "cell_type": "markdown",
   "metadata": {},
   "source": [
    "### Load dataset\n",
    "I'm using my implmenentation of k-fold with cross validation to find best hyperparameters.\n",
    "\n",
    "The code which splits the dataset into **train, validation and test** is left for reference."
   ]
  },
  {
   "cell_type": "code",
   "execution_count": 4,
   "metadata": {},
   "outputs": [],
   "source": [
    "X, y = load_csv('./datasets/concrete.csv')"
   ]
  },
  {
   "cell_type": "markdown",
   "metadata": {},
   "source": [
    "#### Split into train (60%), validation (20%) and test (20%) - unused"
   ]
  },
  {
   "cell_type": "code",
   "execution_count": 13,
   "metadata": {},
   "outputs": [],
   "source": [
    "# X_train, y_train, X_test, y_test = split_train_test(X, y, 0.6, shuffle=True)\n",
    "# X_train, y_train, X_val, y_val = split_train_test(X_train, y_train, 0.75, shuffle=False)"
   ]
  },
  {
   "cell_type": "markdown",
   "metadata": {},
   "source": [
    "#### Split into train (70%) and test (30%)"
   ]
  },
  {
   "cell_type": "code",
   "execution_count": 6,
   "metadata": {},
   "outputs": [],
   "source": [
    "X_train, y_train, X_test, y_test = split_train_test(X, y, 0.7, shuffle=True)"
   ]
  },
  {
   "cell_type": "markdown",
   "metadata": {},
   "source": [
    "### Scale data"
   ]
  },
  {
   "cell_type": "code",
   "execution_count": 7,
   "metadata": {},
   "outputs": [],
   "source": [
    "# create min-max scalers\n",
    "x_scaler = MinMaxScaler().fit(X_train)\n",
    "y_scaler = MinMaxScaler().fit(y_train)\n",
    "\n",
    "# scale train data\n",
    "X_train_scaled = x_scaler.transform(X_train)\n",
    "y_train_scaled = y_scaler.transform(y_train)\n",
    "\n",
    "# scale test data\n",
    "X_test_scaled = x_scaler.transform(X_test)\n",
    "y_test_scaled = y_scaler.transform(y_test)"
   ]
  },
  {
   "cell_type": "markdown",
   "metadata": {},
   "source": [
    "### Find best hyperparameters (num neurons and activation function) using grid search"
   ]
  },
  {
   "cell_type": "code",
   "execution_count": 6,
   "metadata": {},
   "outputs": [],
   "source": [
    "grid = GridSearchCV()\n",
    "\n",
    "# fixed hyperparams\n",
    "reg = 0.001\n",
    "momentum=0.8\n",
    "\n",
    "for lr in [0.2, 0.1, 0.01]:\n",
    "    for num_neurons in [8, 16, 32]:\n",
    "        for function in [Relu, Sigmoid]:\n",
    "\n",
    "            solver = BackpropSGD(epochs=1000,\n",
    "                        learning_rate=lr,     # <-- hyperparam under test\n",
    "                        regularization=reg,\n",
    "                        momentum=momentum,\n",
    "                        batch_size=32,\n",
    "                        metrics=RMSE())\n",
    "\n",
    "            layers = (\n",
    "                (num_neurons, function()),     # <-- hyperparams under test\n",
    "                (1, Identity()),\n",
    "            )\n",
    "\n",
    "            grid.add(MLP, {\n",
    "                \"layers\":layers,\n",
    "                \"input_width\": X_train.shape[1],\n",
    "                \"solver\": solver})\n",
    "\n",
    "best = grid.search(X_train_scaled, y_train_scaled, num_folds=10, shuffle=False)"
   ]
  },
  {
   "cell_type": "markdown",
   "metadata": {},
   "source": [
    "### Hyperparameters of the best MLP"
   ]
  },
  {
   "cell_type": "code",
   "execution_count": 7,
   "metadata": {},
   "outputs": [
    {
     "name": "stdout",
     "output_type": "stream",
     "text": [
      "Best hyperparameters for MLP: {'layers': ((16, Sigmoid), (1, Identity)), 'input_width': 8, 'solver': Epochs=1000, LearningRate=0.1, Regularization=0.001, Momentum=0.8}\n"
     ]
    }
   ],
   "source": [
    "print(\"Best hyperparameters for MLP:\", best[1])"
   ]
  },
  {
   "cell_type": "code",
   "execution_count": 9,
   "metadata": {},
   "outputs": [],
   "source": [
    "# solver = BackpropSGD(epochs=1000,\n",
    "#                     learning_rate=0.1,\n",
    "#                     regularization=0.001,\n",
    "#                     momentum=0.8,\n",
    "#                     batch_size=32,\n",
    "#                     metrics=RMSE())\n",
    "# # \n",
    "# layers = (\n",
    "#     (16, Sigmoid()),  # <-- hyperparams we are evaluating\n",
    "#     (1, Identity()),\n",
    "# )\n",
    "# # \n",
    "# mlp = MLP(layers=layers, input_width=X_train.shape[1], solver=solver)\n",
    "# train_err, test_err = mlp.fit(X_train_scaled, y_train_scaled, X_test_scaled, y_test_scaled)"
   ]
  },
  {
   "cell_type": "markdown",
   "metadata": {},
   "source": [
    "### Train MLP with best hyperparameters"
   ]
  },
  {
   "cell_type": "code",
   "execution_count": 14,
   "metadata": {},
   "outputs": [
    {
     "ename": "ValueError",
     "evalue": "matmul: Input operand 1 has a mismatch in its core dimension 0, with gufunc signature (n?,k),(k,m?)->(n?,m?) (size 9 is different from 8)",
     "output_type": "error",
     "traceback": [
      "\u001b[0;31m---------------------------------------------------------------------------\u001b[0m",
      "\u001b[0;31mValueError\u001b[0m                                Traceback (most recent call last)",
      "\u001b[1;32m/home/jeff/dev/ml-from-scratch/list4.ipynb Cell 14'\u001b[0m in \u001b[0;36m<cell line: 2>\u001b[0;34m()\u001b[0m\n\u001b[1;32m      <a href='vscode-notebook-cell:/home/jeff/dev/ml-from-scratch/list4.ipynb#ch0000035?line=0'>1</a>\u001b[0m mlp \u001b[39m=\u001b[39m MLP(\u001b[39m*\u001b[39m\u001b[39m*\u001b[39mbest[\u001b[39m1\u001b[39m])\n\u001b[0;32m----> <a href='vscode-notebook-cell:/home/jeff/dev/ml-from-scratch/list4.ipynb#ch0000035?line=1'>2</a>\u001b[0m train_err, test_err \u001b[39m=\u001b[39m mlp\u001b[39m.\u001b[39;49mfit(X_train_scaled, y_train_scaled, X_test_scaled, y_test_scaled)\n",
      "File \u001b[0;32m~/dev/ml-from-scratch/ml/models/nn.py:30\u001b[0m, in \u001b[0;36mMLP.fit\u001b[0;34m(self, inputs, outputs, test_inputs, test_outputs)\u001b[0m\n\u001b[1;32m     <a href='file:///home/jeff/dev/ml-from-scratch/ml/models/nn.py?line=27'>28</a>\u001b[0m \u001b[39mdef\u001b[39;00m \u001b[39mfit\u001b[39m(\u001b[39mself\u001b[39m, inputs, outputs, test_inputs\u001b[39m=\u001b[39m\u001b[39mNone\u001b[39;00m, test_outputs\u001b[39m=\u001b[39m\u001b[39mNone\u001b[39;00m):\n\u001b[1;32m     <a href='file:///home/jeff/dev/ml-from-scratch/ml/models/nn.py?line=28'>29</a>\u001b[0m     inputs \u001b[39m=\u001b[39m np\u001b[39m.\u001b[39mc_[np\u001b[39m.\u001b[39mones(inputs\u001b[39m.\u001b[39mshape[\u001b[39m0\u001b[39m]), inputs]\n\u001b[0;32m---> <a href='file:///home/jeff/dev/ml-from-scratch/ml/models/nn.py?line=29'>30</a>\u001b[0m     train_err, test_err \u001b[39m=\u001b[39m \u001b[39mself\u001b[39;49m\u001b[39m.\u001b[39;49msolver\u001b[39m.\u001b[39;49msolve(\u001b[39mself\u001b[39;49m, inputs, outputs, test_inputs, test_outputs)\n\u001b[1;32m     <a href='file:///home/jeff/dev/ml-from-scratch/ml/models/nn.py?line=31'>32</a>\u001b[0m     \u001b[39mself\u001b[39m\u001b[39m.\u001b[39mtrained \u001b[39m=\u001b[39m \u001b[39mTrue\u001b[39;00m\n\u001b[1;32m     <a href='file:///home/jeff/dev/ml-from-scratch/ml/models/nn.py?line=32'>33</a>\u001b[0m     \u001b[39mreturn\u001b[39;00m train_err, test_err\n",
      "File \u001b[0;32m~/dev/ml-from-scratch/ml/algorithms/optimization.py:245\u001b[0m, in \u001b[0;36mBackpropSGD.solve\u001b[0;34m(self, model, inputs, outputs, inputs_test, outputs_test)\u001b[0m\n\u001b[1;32m    <a href='file:///home/jeff/dev/ml-from-scratch/ml/algorithms/optimization.py?line=242'>243</a>\u001b[0m \u001b[39m# measure test error (if applicable)\u001b[39;00m\n\u001b[1;32m    <a href='file:///home/jeff/dev/ml-from-scratch/ml/algorithms/optimization.py?line=243'>244</a>\u001b[0m \u001b[39mif\u001b[39;00m inputs_test \u001b[39mis\u001b[39;00m \u001b[39mnot\u001b[39;00m \u001b[39mNone\u001b[39;00m:\n\u001b[0;32m--> <a href='file:///home/jeff/dev/ml-from-scratch/ml/algorithms/optimization.py?line=244'>245</a>\u001b[0m     test_predictions \u001b[39m=\u001b[39m model\u001b[39m.\u001b[39;49mpredict(inputs_test)\n\u001b[1;32m    <a href='file:///home/jeff/dev/ml-from-scratch/ml/algorithms/optimization.py?line=245'>246</a>\u001b[0m     epoch_measurement \u001b[39m=\u001b[39m \u001b[39mself\u001b[39m\u001b[39m.\u001b[39mmetrics\u001b[39m.\u001b[39mmeasure(outputs_test, test_predictions)\n\u001b[1;32m    <a href='file:///home/jeff/dev/ml-from-scratch/ml/algorithms/optimization.py?line=246'>247</a>\u001b[0m     test_measurements\u001b[39m.\u001b[39mappend(epoch_measurement)\n",
      "File \u001b[0;32m~/dev/ml-from-scratch/ml/models/nn.py:68\u001b[0m, in \u001b[0;36mMLP.predict\u001b[0;34m(self, x)\u001b[0m\n\u001b[1;32m     <a href='file:///home/jeff/dev/ml-from-scratch/ml/models/nn.py?line=66'>67</a>\u001b[0m \u001b[39mdef\u001b[39;00m \u001b[39mpredict\u001b[39m(\u001b[39mself\u001b[39m, x):\n\u001b[0;32m---> <a href='file:///home/jeff/dev/ml-from-scratch/ml/models/nn.py?line=67'>68</a>\u001b[0m     y \u001b[39m=\u001b[39m \u001b[39mself\u001b[39;49m\u001b[39m.\u001b[39;49mpredict_proba(x)\n\u001b[1;32m     <a href='file:///home/jeff/dev/ml-from-scratch/ml/models/nn.py?line=69'>70</a>\u001b[0m     \u001b[39mif\u001b[39;00m \u001b[39mself\u001b[39m\u001b[39m.\u001b[39mtrained \u001b[39mand\u001b[39;00m \u001b[39mself\u001b[39m\u001b[39m.\u001b[39mis_classifier:\n\u001b[1;32m     <a href='file:///home/jeff/dev/ml-from-scratch/ml/models/nn.py?line=70'>71</a>\u001b[0m         \u001b[39mreturn\u001b[39;00m np\u001b[39m.\u001b[39mround(y)\n",
      "File \u001b[0;32m~/dev/ml-from-scratch/ml/models/nn.py:57\u001b[0m, in \u001b[0;36mMLP.predict_proba\u001b[0;34m(self, x)\u001b[0m\n\u001b[1;32m     <a href='file:///home/jeff/dev/ml-from-scratch/ml/models/nn.py?line=53'>54</a>\u001b[0m \u001b[39mif\u001b[39;00m \u001b[39mnot\u001b[39;00m \u001b[39mself\u001b[39m\u001b[39m.\u001b[39mtrained:\n\u001b[1;32m     <a href='file:///home/jeff/dev/ml-from-scratch/ml/models/nn.py?line=54'>55</a>\u001b[0m     \u001b[39mself\u001b[39m\u001b[39m.\u001b[39minputs\u001b[39m.\u001b[39mappend(z)\n\u001b[0;32m---> <a href='file:///home/jeff/dev/ml-from-scratch/ml/models/nn.py?line=56'>57</a>\u001b[0m u \u001b[39m=\u001b[39m z \u001b[39m@\u001b[39;49m W\n\u001b[1;32m     <a href='file:///home/jeff/dev/ml-from-scratch/ml/models/nn.py?line=57'>58</a>\u001b[0m \u001b[39mif\u001b[39;00m \u001b[39mnot\u001b[39;00m \u001b[39mself\u001b[39m\u001b[39m.\u001b[39mtrained:\n\u001b[1;32m     <a href='file:///home/jeff/dev/ml-from-scratch/ml/models/nn.py?line=58'>59</a>\u001b[0m     \u001b[39mself\u001b[39m\u001b[39m.\u001b[39mlinear_outputs\u001b[39m.\u001b[39mappend(u)\n",
      "\u001b[0;31mValueError\u001b[0m: matmul: Input operand 1 has a mismatch in its core dimension 0, with gufunc signature (n?,k),(k,m?)->(n?,m?) (size 9 is different from 8)"
     ]
    }
   ],
   "source": [
    "mlp = MLP(**best[1])\n",
    "train_err, test_err = mlp.fit(X_train_scaled, y_train_scaled, X_test_scaled, y_test_scaled)"
   ]
  },
  {
   "cell_type": "markdown",
   "metadata": {},
   "source": [
    "### Report train and test errors during training"
   ]
  },
  {
   "cell_type": "code",
   "execution_count": 10,
   "metadata": {},
   "outputs": [
    {
     "data": {
      "text/plain": [
       "Text(0.5, 0, 'Epoch')"
      ]
     },
     "execution_count": 10,
     "metadata": {},
     "output_type": "execute_result"
    },
    {
     "data": {
      "image/png": "[encoded data removed]",
      "text/plain": [
       "<Figure size 432x288 with 1 Axes>"
      ]
     },
     "metadata": {
      "needs_background": "light"
     },
     "output_type": "display_data"
    }
   ],
   "source": [
    "plt.plot(train_err)\n",
    "plt.plot(test_err)\n",
    "\n",
    "plt.ylabel(\"RMSE\")\n",
    "plt.xlabel(\"Epoch\")"
   ]
  },
  {
   "cell_type": "markdown",
   "metadata": {},
   "source": [
    "### Report train and test RMSE, MAE and MRE"
   ]
  },
  {
   "cell_type": "code",
   "execution_count": 12,
   "metadata": {},
   "outputs": [
    {
     "name": "stdout",
     "output_type": "stream",
     "text": [
      "--\n",
      "RMSE(train): 6.484901453904126 \n",
      "RMSE (test):  6.9219326280655675\n",
      "--\n",
      "MAE(train): 5.005157514969553 \n",
      "MAE (test):  5.385517752233411\n",
      "--\n",
      "MRE(train): 6.484901453904126 \n",
      "MRE (test):  6.9219326280655675\n"
     ]
    }
   ],
   "source": [
    "y_train_pred_scaled = mlp.predict(X_train_scaled)\n",
    "y_train_pred = y_scaler.inverse_transform(y_train_pred_scaled)\n",
    "\n",
    "y_test_pred_scaled = mlp.predict(X_test_scaled)\n",
    "y_test_pred = y_scaler.inverse_transform(y_test_pred_scaled)\n",
    "\n",
    "rmse = RMSE()\n",
    "mae = MAE()\n",
    "mre = MRE()\n",
    "\n",
    "print(\"--\\nRMSE(train):\", rmse.measure(y_train, y_train_pred), \"\\nRMSE (test): \", rmse.measure(y_test, y_test_pred))\n",
    "print(\"--\\nMAE(train):\",   mae.measure(y_train, y_train_pred), \"\\nMAE (test): \",   mae.measure(y_test, y_test_pred))\n",
    "print(\"--\\nMRE(train):\",  rmse.measure(y_train, y_train_pred), \"\\nMRE (test): \",  rmse.measure(y_test, y_test_pred))"
   ]
  },
  {
   "cell_type": "markdown",
   "metadata": {},
   "source": [
    "## Q1 - Neural Net for classification"
   ]
  },
  {
   "cell_type": "markdown",
   "metadata": {},
   "source": [
    "### Load dataset\n",
    "I'm using my implmenentation of k-fold with cross validation to find best hyperparameters.\n",
    "\n",
    "The code which splits the dataset into **train, validation and test** is left for reference."
   ]
  },
  {
   "cell_type": "code",
   "execution_count": 14,
   "metadata": {},
   "outputs": [],
   "source": [
    "X, y = load_csv('./datasets/vowel.csv')\n",
    "y = y.astype(int).squeeze()"
   ]
  },
  {
   "cell_type": "markdown",
   "metadata": {},
   "source": [
    "#### Split into train (60%), validation (20%) and test (20%) - unused"
   ]
  },
  {
   "cell_type": "code",
   "execution_count": null,
   "metadata": {},
   "outputs": [],
   "source": [
    "# X_train, y_train, X_test, y_test = split_train_test(X, y, 0.6, shuffle=True)\n",
    "# X_train, y_train, X_val, y_val = split_train_test(X_train, y_train, 0.75, shuffle=False)"
   ]
  },
  {
   "cell_type": "markdown",
   "metadata": {},
   "source": [
    "#### Split into train (70%) and test (30%)"
   ]
  },
  {
   "cell_type": "code",
   "execution_count": 15,
   "metadata": {},
   "outputs": [],
   "source": [
    "X_train, y_train, X_test, y_test = split_train_test(X, y, 0.7, shuffle=True)"
   ]
  },
  {
   "cell_type": "markdown",
   "metadata": {},
   "source": [
    "### Scale data"
   ]
  },
  {
   "cell_type": "code",
   "execution_count": 16,
   "metadata": {},
   "outputs": [],
   "source": [
    "# create min-max scalers\n",
    "x_scaler = MinMaxScaler().fit(X_train)\n",
    "y_scaler = MinMaxScaler().fit(y_train)\n",
    "\n",
    "# scale train data\n",
    "X_train_scaled = x_scaler.transform(X_train)\n",
    "y_train_scaled = y_scaler.transform(y_train)\n",
    "\n",
    "# scale test data\n",
    "X_test_scaled = x_scaler.transform(X_test)\n",
    "y_test_scaled = y_scaler.transform(y_test)"
   ]
  },
  {
   "cell_type": "markdown",
   "metadata": {},
   "source": [
    "### Find best hyperparameters (num neurons and activation function) using grid search"
   ]
  },
  {
   "cell_type": "code",
   "execution_count": 17,
   "metadata": {},
   "outputs": [
    {
     "ename": "AttributeError",
     "evalue": "'NoneType' object has no attribute 'shape'",
     "output_type": "error",
     "traceback": [
      "\u001b[0;31m---------------------------------------------------------------------------\u001b[0m",
      "\u001b[0;31mAttributeError\u001b[0m                            Traceback (most recent call last)",
      "\u001b[1;32m/home/jeff/dev/ml-from-scratch/list4.ipynb Cell 32'\u001b[0m in \u001b[0;36m<cell line: 29>\u001b[0;34m()\u001b[0m\n\u001b[1;32m     <a href='vscode-notebook-cell:/home/jeff/dev/ml-from-scratch/list4.ipynb#ch0000062?line=17'>18</a>\u001b[0m             layers \u001b[39m=\u001b[39m (\n\u001b[1;32m     <a href='vscode-notebook-cell:/home/jeff/dev/ml-from-scratch/list4.ipynb#ch0000062?line=18'>19</a>\u001b[0m                 (num_neurons, function()),     \u001b[39m# <-- hyperparams under test\u001b[39;00m\n\u001b[1;32m     <a href='vscode-notebook-cell:/home/jeff/dev/ml-from-scratch/list4.ipynb#ch0000062?line=19'>20</a>\u001b[0m                 (\u001b[39m1\u001b[39m, Sigmoid()),\n\u001b[1;32m     <a href='vscode-notebook-cell:/home/jeff/dev/ml-from-scratch/list4.ipynb#ch0000062?line=20'>21</a>\u001b[0m             )\n\u001b[1;32m     <a href='vscode-notebook-cell:/home/jeff/dev/ml-from-scratch/list4.ipynb#ch0000062?line=22'>23</a>\u001b[0m             grid\u001b[39m.\u001b[39madd(MLP, {\n\u001b[1;32m     <a href='vscode-notebook-cell:/home/jeff/dev/ml-from-scratch/list4.ipynb#ch0000062?line=23'>24</a>\u001b[0m                 \u001b[39m\"\u001b[39m\u001b[39mlayers\u001b[39m\u001b[39m\"\u001b[39m:layers,\n\u001b[1;32m     <a href='vscode-notebook-cell:/home/jeff/dev/ml-from-scratch/list4.ipynb#ch0000062?line=24'>25</a>\u001b[0m                 \u001b[39m\"\u001b[39m\u001b[39minput_width\u001b[39m\u001b[39m\"\u001b[39m: X_train\u001b[39m.\u001b[39mshape[\u001b[39m1\u001b[39m],\n\u001b[1;32m     <a href='vscode-notebook-cell:/home/jeff/dev/ml-from-scratch/list4.ipynb#ch0000062?line=25'>26</a>\u001b[0m                 \u001b[39m\"\u001b[39m\u001b[39msolver\u001b[39m\u001b[39m\"\u001b[39m: solver,\n\u001b[1;32m     <a href='vscode-notebook-cell:/home/jeff/dev/ml-from-scratch/list4.ipynb#ch0000062?line=26'>27</a>\u001b[0m                 \u001b[39m\"\u001b[39m\u001b[39mis_classifier\u001b[39m\u001b[39m\"\u001b[39m: \u001b[39mTrue\u001b[39;00m})\n\u001b[0;32m---> <a href='vscode-notebook-cell:/home/jeff/dev/ml-from-scratch/list4.ipynb#ch0000062?line=28'>29</a>\u001b[0m best \u001b[39m=\u001b[39m grid\u001b[39m.\u001b[39;49msearch(X_train_scaled, y_train_scaled, num_folds\u001b[39m=\u001b[39;49m\u001b[39m10\u001b[39;49m, shuffle\u001b[39m=\u001b[39;49m\u001b[39mFalse\u001b[39;49;00m)\n",
      "File \u001b[0;32m~/dev/ml-from-scratch/ml/model_selection.py:68\u001b[0m, in \u001b[0;36mGridSearchCV.search\u001b[0;34m(self, inputs, outputs, num_folds, score, score_minimize, shuffle)\u001b[0m\n\u001b[1;32m     <a href='file:///home/jeff/dev/ml-from-scratch/ml/model_selection.py?line=64'>65</a>\u001b[0m model_args \u001b[39m=\u001b[39m candidate[GridSearchCV\u001b[39m.\u001b[39mMODEL_ARGS_IDX]\n\u001b[1;32m     <a href='file:///home/jeff/dev/ml-from-scratch/ml/model_selection.py?line=66'>67</a>\u001b[0m m \u001b[39m=\u001b[39m model(\u001b[39m*\u001b[39m\u001b[39m*\u001b[39mmodel_args)\n\u001b[0;32m---> <a href='file:///home/jeff/dev/ml-from-scratch/ml/model_selection.py?line=67'>68</a>\u001b[0m m\u001b[39m.\u001b[39;49mfit(X_train, Y_train)\n\u001b[1;32m     <a href='file:///home/jeff/dev/ml-from-scratch/ml/model_selection.py?line=69'>70</a>\u001b[0m Y_predicted \u001b[39m=\u001b[39m m\u001b[39m.\u001b[39mpredict(X_test)\n\u001b[1;32m     <a href='file:///home/jeff/dev/ml-from-scratch/ml/model_selection.py?line=70'>71</a>\u001b[0m model_cost[i] \u001b[39m+\u001b[39m\u001b[39m=\u001b[39m score\u001b[39m.\u001b[39mmeasure(Y_test, Y_predicted)\n",
      "File \u001b[0;32m~/dev/ml-from-scratch/ml/models/nn.py:30\u001b[0m, in \u001b[0;36mMLP.fit\u001b[0;34m(self, inputs, outputs, test_inputs, test_outputs)\u001b[0m\n\u001b[1;32m     <a href='file:///home/jeff/dev/ml-from-scratch/ml/models/nn.py?line=27'>28</a>\u001b[0m \u001b[39mdef\u001b[39;00m \u001b[39mfit\u001b[39m(\u001b[39mself\u001b[39m, inputs, outputs, test_inputs\u001b[39m=\u001b[39m\u001b[39mNone\u001b[39;00m, test_outputs\u001b[39m=\u001b[39m\u001b[39mNone\u001b[39;00m):\n\u001b[1;32m     <a href='file:///home/jeff/dev/ml-from-scratch/ml/models/nn.py?line=28'>29</a>\u001b[0m     inputs \u001b[39m=\u001b[39m np\u001b[39m.\u001b[39mc_[np\u001b[39m.\u001b[39mones(inputs\u001b[39m.\u001b[39mshape[\u001b[39m0\u001b[39m]), inputs]\n\u001b[0;32m---> <a href='file:///home/jeff/dev/ml-from-scratch/ml/models/nn.py?line=29'>30</a>\u001b[0m     test_inputs \u001b[39m=\u001b[39m np\u001b[39m.\u001b[39mc_[np\u001b[39m.\u001b[39mones(test_inputs\u001b[39m.\u001b[39;49mshape[\u001b[39m0\u001b[39m]), test_inputs]\n\u001b[1;32m     <a href='file:///home/jeff/dev/ml-from-scratch/ml/models/nn.py?line=30'>31</a>\u001b[0m     train_err, test_err \u001b[39m=\u001b[39m \u001b[39mself\u001b[39m\u001b[39m.\u001b[39msolver\u001b[39m.\u001b[39msolve(\u001b[39mself\u001b[39m, inputs, outputs, test_inputs, test_outputs)\n\u001b[1;32m     <a href='file:///home/jeff/dev/ml-from-scratch/ml/models/nn.py?line=32'>33</a>\u001b[0m     \u001b[39mself\u001b[39m\u001b[39m.\u001b[39mtrained \u001b[39m=\u001b[39m \u001b[39mTrue\u001b[39;00m\n",
      "\u001b[0;31mAttributeError\u001b[0m: 'NoneType' object has no attribute 'shape'"
     ]
    }
   ],
   "source": [
    "grid = GridSearchCV()\n",
    "\n",
    "# fixed hyperparams\n",
    "reg = 0.001\n",
    "momentum=0.8\n",
    "\n",
    "for lr in [0.1]:\n",
    "    for num_neurons in [16, 32]:\n",
    "        for function in [Relu, Sigmoid]:\n",
    "\n",
    "            solver = BackpropSGD(epochs=1000,\n",
    "                        learning_rate=lr,     # <-- hyperparam under test\n",
    "                        regularization=reg,\n",
    "                        momentum=momentum,\n",
    "                        batch_size=32,\n",
    "                        metrics=RMSE())\n",
    "\n",
    "            layers = (\n",
    "                (num_neurons, function()),     # <-- hyperparams under test\n",
    "                (1, Sigmoid()),\n",
    "            )\n",
    "\n",
    "            grid.add(MLP, {\n",
    "                \"layers\":layers,\n",
    "                \"input_width\": X_train.shape[1],\n",
    "                \"solver\": solver,\n",
    "                \"is_classifier\": True})\n",
    "\n",
    "best = grid.search(X_train_scaled, y_train_scaled, num_folds=10, shuffle=False)"
   ]
  },
  {
   "cell_type": "markdown",
   "metadata": {},
   "source": [
    "### Hyperparameters of the best MLP"
   ]
  },
  {
   "cell_type": "code",
   "execution_count": null,
   "metadata": {},
   "outputs": [
    {
     "name": "stdout",
     "output_type": "stream",
     "text": [
      "Best hyperparameters for MLP: {'layers': ((16, Sigmoid), (1, Identity)), 'input_width': 8, 'solver': Epochs=1000, LearningRate=0.1, Regularization=0.001, Momentum=0.8}\n"
     ]
    }
   ],
   "source": [
    "print(\"Best hyperparameters for MLP:\", best[1])"
   ]
  },
  {
   "cell_type": "markdown",
   "metadata": {},
   "source": [
    "## Drafts"
   ]
  },
  {
   "cell_type": "code",
   "execution_count": null,
   "metadata": {},
   "outputs": [],
   "source": [
    "# Regression MLP\n",
    "\n",
    "solver = BackpropSGD(epochs=1000,\n",
    "                    learning_rate=0.1,\n",
    "                    regularization=0.001,\n",
    "                    momentum=0.8,\n",
    "                    batch_size=32,\n",
    "                    metrics=RMSE())\n",
    "# \n",
    "layers = (\n",
    "    (16, Sigmoid()),  # <-- hyperparams we are evaluating\n",
    "    (1, Identity()),\n",
    ")\n",
    "# \n",
    "mlp = MLP(layers=layers, input_width=X_train.shape[1], solver=solver)\n",
    "train_err, test_err = mlp.fit(X_train_scaled, y_train_scaled, X_test_scaled, y_test_scaled)"
   ]
  },
  {
   "cell_type": "code",
   "execution_count": 20,
   "metadata": {},
   "outputs": [
    {
     "name": "stdout",
     "output_type": "stream",
     "text": [
      "(297, 10)\n"
     ]
    }
   ],
   "source": [
    "print(X_test.shape)"
   ]
  },
  {
   "cell_type": "code",
   "execution_count": 18,
   "metadata": {},
   "outputs": [
    {
     "ename": "ValueError",
     "evalue": "operands could not be broadcast together with shapes (33,17) (33,33) ",
     "output_type": "error",
     "traceback": [
      "\u001b[0;31m---------------------------------------------------------------------------\u001b[0m",
      "\u001b[0;31mValueError\u001b[0m                                Traceback (most recent call last)",
      "\u001b[1;32m/home/jeff/dev/ml-from-scratch/list4.ipynb Cell 37'\u001b[0m in \u001b[0;36m<cell line: 16>\u001b[0;34m()\u001b[0m\n\u001b[1;32m     <a href='vscode-notebook-cell:/home/jeff/dev/ml-from-scratch/list4.ipynb#ch0000067?line=13'>14</a>\u001b[0m \u001b[39m# \u001b[39;00m\n\u001b[1;32m     <a href='vscode-notebook-cell:/home/jeff/dev/ml-from-scratch/list4.ipynb#ch0000067?line=14'>15</a>\u001b[0m mlp \u001b[39m=\u001b[39m MLP(layers\u001b[39m=\u001b[39mlayers, input_width\u001b[39m=\u001b[39mX_train\u001b[39m.\u001b[39mshape[\u001b[39m1\u001b[39m], solver\u001b[39m=\u001b[39msolver)\n\u001b[0;32m---> <a href='vscode-notebook-cell:/home/jeff/dev/ml-from-scratch/list4.ipynb#ch0000067?line=15'>16</a>\u001b[0m train_err, test_err \u001b[39m=\u001b[39m mlp\u001b[39m.\u001b[39;49mfit(X_train_scaled, y_train_scaled, X_test_scaled, y_test_scaled)\n",
      "File \u001b[0;32m~/dev/ml-from-scratch/ml/models/nn.py:31\u001b[0m, in \u001b[0;36mMLP.fit\u001b[0;34m(self, inputs, outputs, test_inputs, test_outputs)\u001b[0m\n\u001b[1;32m     <a href='file:///home/jeff/dev/ml-from-scratch/ml/models/nn.py?line=28'>29</a>\u001b[0m inputs \u001b[39m=\u001b[39m np\u001b[39m.\u001b[39mc_[np\u001b[39m.\u001b[39mones(inputs\u001b[39m.\u001b[39mshape[\u001b[39m0\u001b[39m]), inputs]\n\u001b[1;32m     <a href='file:///home/jeff/dev/ml-from-scratch/ml/models/nn.py?line=29'>30</a>\u001b[0m test_inputs \u001b[39m=\u001b[39m np\u001b[39m.\u001b[39mc_[np\u001b[39m.\u001b[39mones(test_inputs\u001b[39m.\u001b[39mshape[\u001b[39m0\u001b[39m]), test_inputs]\n\u001b[0;32m---> <a href='file:///home/jeff/dev/ml-from-scratch/ml/models/nn.py?line=30'>31</a>\u001b[0m train_err, test_err \u001b[39m=\u001b[39m \u001b[39mself\u001b[39;49m\u001b[39m.\u001b[39;49msolver\u001b[39m.\u001b[39;49msolve(\u001b[39mself\u001b[39;49m, inputs, outputs, test_inputs, test_outputs)\n\u001b[1;32m     <a href='file:///home/jeff/dev/ml-from-scratch/ml/models/nn.py?line=32'>33</a>\u001b[0m \u001b[39mself\u001b[39m\u001b[39m.\u001b[39mtrained \u001b[39m=\u001b[39m \u001b[39mTrue\u001b[39;00m\n\u001b[1;32m     <a href='file:///home/jeff/dev/ml-from-scratch/ml/models/nn.py?line=33'>34</a>\u001b[0m \u001b[39mreturn\u001b[39;00m train_err, test_err\n",
      "File \u001b[0;32m~/dev/ml-from-scratch/ml/algorithms/optimization.py:215\u001b[0m, in \u001b[0;36mBackpropSGD.solve\u001b[0;34m(self, model, inputs, outputs, inputs_test, outputs_test)\u001b[0m\n\u001b[1;32m    <a href='file:///home/jeff/dev/ml-from-scratch/ml/algorithms/optimization.py?line=212'>213</a>\u001b[0m output_layer_idx \u001b[39m=\u001b[39m \u001b[39mlen\u001b[39m(model\u001b[39m.\u001b[39mparams) \u001b[39m-\u001b[39m \u001b[39m1\u001b[39m\n\u001b[1;32m    <a href='file:///home/jeff/dev/ml-from-scratch/ml/algorithms/optimization.py?line=213'>214</a>\u001b[0m i \u001b[39m=\u001b[39m model\u001b[39m.\u001b[39minputs[output_layer_idx]\n\u001b[0;32m--> <a href='file:///home/jeff/dev/ml-from-scratch/ml/algorithms/optimization.py?line=214'>215</a>\u001b[0m step, delta \u001b[39m=\u001b[39m \u001b[39mself\u001b[39;49m\u001b[39m.\u001b[39;49mbackprop_output_layer(i, Y, \n\u001b[1;32m    <a href='file:///home/jeff/dev/ml-from-scratch/ml/algorithms/optimization.py?line=215'>216</a>\u001b[0m                                     predictions, model\u001b[39m.\u001b[39;49mparams[output_layer_idx], \n\u001b[1;32m    <a href='file:///home/jeff/dev/ml-from-scratch/ml/algorithms/optimization.py?line=216'>217</a>\u001b[0m                                     steps[output_layer_idx])\n\u001b[1;32m    <a href='file:///home/jeff/dev/ml-from-scratch/ml/algorithms/optimization.py?line=217'>218</a>\u001b[0m steps[output_layer_idx] \u001b[39m=\u001b[39m step\n\u001b[1;32m    <a href='file:///home/jeff/dev/ml-from-scratch/ml/algorithms/optimization.py?line=219'>220</a>\u001b[0m \u001b[39m# compute gradients of the hidden layers\u001b[39;00m\n",
      "File \u001b[0;32m~/dev/ml-from-scratch/ml/algorithms/optimization.py:162\u001b[0m, in \u001b[0;36mBackpropSGD.backprop_output_layer\u001b[0;34m(self, x, y, y_estimated, weights, last_step)\u001b[0m\n\u001b[1;32m    <a href='file:///home/jeff/dev/ml-from-scratch/ml/algorithms/optimization.py?line=158'>159</a>\u001b[0m regularization_term \u001b[39m=\u001b[39m \u001b[39mself\u001b[39m\u001b[39m.\u001b[39mregularization \u001b[39m*\u001b[39m weights\n\u001b[1;32m    <a href='file:///home/jeff/dev/ml-from-scratch/ml/algorithms/optimization.py?line=159'>160</a>\u001b[0m regularization_term[\u001b[39m0\u001b[39m,\u001b[39m0\u001b[39m] \u001b[39m=\u001b[39m \u001b[39m0.0\u001b[39m\n\u001b[0;32m--> <a href='file:///home/jeff/dev/ml-from-scratch/ml/algorithms/optimization.py?line=161'>162</a>\u001b[0m mean_xerror \u001b[39m=\u001b[39m (x \u001b[39m*\u001b[39;49m delta)\u001b[39m.\u001b[39mmean(axis\u001b[39m=\u001b[39m\u001b[39m0\u001b[39m, keepdims\u001b[39m=\u001b[39m\u001b[39mTrue\u001b[39;00m)\n\u001b[1;32m    <a href='file:///home/jeff/dev/ml-from-scratch/ml/algorithms/optimization.py?line=163'>164</a>\u001b[0m adjust \u001b[39m=\u001b[39m mean_xerror\u001b[39m.\u001b[39mT \u001b[39m-\u001b[39m regularization_term\n\u001b[1;32m    <a href='file:///home/jeff/dev/ml-from-scratch/ml/algorithms/optimization.py?line=164'>165</a>\u001b[0m step \u001b[39m=\u001b[39m (\u001b[39mself\u001b[39m\u001b[39m.\u001b[39mlearning_rate \u001b[39m*\u001b[39m adjust) \u001b[39m+\u001b[39m (\u001b[39mself\u001b[39m\u001b[39m.\u001b[39mmomentum \u001b[39m*\u001b[39m last_step)\n",
      "\u001b[0;31mValueError\u001b[0m: operands could not be broadcast together with shapes (33,17) (33,33) "
     ]
    }
   ],
   "source": [
    "# Classification MLP\n",
    "\n",
    "solver = BackpropSGD(epochs=1000,\n",
    "                    learning_rate=0.1,\n",
    "                    regularization=0.001,\n",
    "                    momentum=0.8,\n",
    "                    batch_size=32,\n",
    "                    metrics=RMSE())\n",
    "# \n",
    "layers = (\n",
    "    (16, Sigmoid()),  # <-- hyperparams we are evaluating\n",
    "    (1, Sigmoid()),\n",
    ")\n",
    "# \n",
    "mlp = MLP(layers=layers, input_width=X_train.shape[1], solver=solver)\n",
    "train_err, test_err = mlp.fit(X_train_scaled, y_train_scaled, X_test_scaled, y_test_scaled)"
   ]
  }
 ],
 "metadata": {
  "interpreter": {
   "hash": "ca48a1217c93acd9388dba04a449e77fab73d12f699c89515157fda392110c7b"
  },
  "kernelspec": {
   "display_name": "Python 3.8.10 ('env': venv)",
   "language": "python",
   "name": "python3"
  },
  "language_info": {
   "codemirror_mode": {
    "name": "ipython",
    "version": 3
   },
   "file_extension": ".py",
   "mimetype": "text/x-python",
   "name": "python",
   "nbconvert_exporter": "python",
   "pygments_lexer": "ipython3",
   "version": "3.8.10"
  },
  "orig_nbformat": 4
 },
 "nbformat": 4,
 "nbformat_minor": 2
}
