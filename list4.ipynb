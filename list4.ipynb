{
 "cells": [
  {
   "cell_type": "code",
   "execution_count": 1,
   "metadata": {},
   "outputs": [],
   "source": [
    "# model implementation\n",
    "from ml.models.nn import MLP\n",
    "from ml.algorithms.optimization import BackpropSGD\n",
    "from ml.functions.activation import Sigmoid, Identity, Relu\n",
    "\n",
    "# model selection\n",
    "from ml.model_selection import GridSearchCV\n",
    "\n",
    "from ml.functions.metrics.classification import F1Score, BinaryAccuracy\n",
    "from ml.functions.metrics.regression import RMSE\n",
    "\n",
    "from ml.stats import ClassificationStats\n",
    "\n",
    "# data manipulation\n",
    "from ml.dataset import load_csv, split_train_test\n",
    "from ml.algorithms.normalization import MinMaxScaler\n",
    "\n",
    "# Utility\n",
    "import numpy as np\n",
    "import matplotlib.pyplot as plt\n",
    "\n",
    "np.random.seed(25)"
   ]
  },
  {
   "cell_type": "markdown",
   "metadata": {},
   "source": [
    "## Q1 - Neural Net for regression"
   ]
  },
  {
   "cell_type": "markdown",
   "metadata": {},
   "source": [
    "### Load dataset"
   ]
  },
  {
   "cell_type": "code",
   "execution_count": 2,
   "metadata": {},
   "outputs": [],
   "source": [
    "X, y = load_csv('./datasets/concrete.csv')\n",
    "X_train, y_train, X_test, y_test = split_train_test(X, y, 0.6, shuffle=True)"
   ]
  },
  {
   "cell_type": "code",
   "execution_count": 3,
   "metadata": {},
   "outputs": [],
   "source": [
    "x_scaler = MinMaxScaler()\n",
    "x_scaler.fit(X_train)\n",
    "\n",
    "y_scaler = MinMaxScaler()\n",
    "y_scaler.fit(y_train)\n",
    "\n",
    "X_train_scaled = x_scaler.transform(X_train)\n",
    "y_train_scaled = y_scaler.transform(y_train)"
   ]
  },
  {
   "cell_type": "code",
   "execution_count": 13,
   "metadata": {},
   "outputs": [],
   "source": [
    "_alpha=0.1\n",
    "_lambda = 0.001\n",
    "\n",
    "mlp = MLP(layers=(\n",
    "                (8, Sigmoid()),\n",
    "                (1, Identity())\n",
    "            ),\n",
    "            input_width = 8,\n",
    "            solver = BackpropSGD(epochs=4000, learning_rate=_alpha, regularization=_lambda, batch_size=8, metrics=RMSE())\n",
    "        )"
   ]
  },
  {
   "cell_type": "code",
   "execution_count": 14,
   "metadata": {},
   "outputs": [],
   "source": [
    "err = mlp.fit(X_train_scaled, y_train_scaled)"
   ]
  },
  {
   "cell_type": "code",
   "execution_count": 15,
   "metadata": {},
   "outputs": [
    {
     "data": {
      "text/plain": [
       "Text(0.5, 0, 'Epoch')"
      ]
     },
     "execution_count": 15,
     "metadata": {},
     "output_type": "execute_result"
    },
    {
     "data": {
      "image/png": "[encoded data removed]",
      "text/plain": [
       "<Figure size 432x288 with 1 Axes>"
      ]
     },
     "metadata": {
      "needs_background": "light"
     },
     "output_type": "display_data"
    }
   ],
   "source": [
    "plt.plot(err)\n",
    "plt.ylabel(\"RMSE\")\n",
    "plt.xlabel(\"Epoch\")"
   ]
  },
  {
   "cell_type": "markdown",
   "metadata": {},
   "source": [
    "### Find best hyperparameters using grid search"
   ]
  },
  {
   "cell_type": "code",
   "execution_count": null,
   "metadata": {},
   "outputs": [
    {
     "ename": "KeyboardInterrupt",
     "evalue": "",
     "output_type": "error",
     "traceback": [
      "\u001b[0;31m---------------------------------------------------------------------------\u001b[0m",
      "\u001b[0;31mKeyboardInterrupt\u001b[0m                         Traceback (most recent call last)",
      "\u001b[1;32m/home/jeff/dev/ml-from-scratch/list4.ipynb Cell 6'\u001b[0m in \u001b[0;36m<cell line: 15>\u001b[0;34m()\u001b[0m\n\u001b[1;32m      <a href='vscode-notebook-cell:/home/jeff/dev/ml-from-scratch/list4.ipynb#ch0000005?line=4'>5</a>\u001b[0m \u001b[39mfor\u001b[39;00m num_neurons \u001b[39min\u001b[39;00m [\u001b[39m2\u001b[39m, \u001b[39m4\u001b[39m, \u001b[39m8\u001b[39m, \u001b[39m16\u001b[39m]:    \n\u001b[1;32m      <a href='vscode-notebook-cell:/home/jeff/dev/ml-from-scratch/list4.ipynb#ch0000005?line=5'>6</a>\u001b[0m     grid\u001b[39m.\u001b[39madd(MLP, {\n\u001b[1;32m      <a href='vscode-notebook-cell:/home/jeff/dev/ml-from-scratch/list4.ipynb#ch0000005?line=6'>7</a>\u001b[0m         \u001b[39m\"\u001b[39m\u001b[39mlayers\u001b[39m\u001b[39m\"\u001b[39m:(\n\u001b[1;32m      <a href='vscode-notebook-cell:/home/jeff/dev/ml-from-scratch/list4.ipynb#ch0000005?line=7'>8</a>\u001b[0m             (num_neurons, Sigmoid()),\n\u001b[0;32m   (...)\u001b[0m\n\u001b[1;32m     <a href='vscode-notebook-cell:/home/jeff/dev/ml-from-scratch/list4.ipynb#ch0000005?line=11'>12</a>\u001b[0m         \u001b[39m\"\u001b[39m\u001b[39msolver\u001b[39m\u001b[39m\"\u001b[39m: BackpropSGD(epochs\u001b[39m=\u001b[39m\u001b[39m4000\u001b[39m, learning_rate\u001b[39m=\u001b[39m_alpha, regularization\u001b[39m=\u001b[39m_lambda, batch_size\u001b[39m=\u001b[39m\u001b[39m8\u001b[39m, metrics\u001b[39m=\u001b[39mRMSE()),\n\u001b[1;32m     <a href='vscode-notebook-cell:/home/jeff/dev/ml-from-scratch/list4.ipynb#ch0000005?line=12'>13</a>\u001b[0m     })\n\u001b[0;32m---> <a href='vscode-notebook-cell:/home/jeff/dev/ml-from-scratch/list4.ipynb#ch0000005?line=14'>15</a>\u001b[0m best \u001b[39m=\u001b[39m grid\u001b[39m.\u001b[39;49msearch(X_train, y_train, num_folds\u001b[39m=\u001b[39;49m\u001b[39m10\u001b[39;49m, shuffle\u001b[39m=\u001b[39;49m\u001b[39mFalse\u001b[39;49;00m)\n",
      "File \u001b[0;32m~/dev/ml-from-scratch/ml/model_selection.py:68\u001b[0m, in \u001b[0;36mGridSearchCV.search\u001b[0;34m(self, inputs, outputs, num_folds, score, score_minimize, shuffle)\u001b[0m\n\u001b[1;32m     <a href='file:///home/jeff/dev/ml-from-scratch/ml/model_selection.py?line=64'>65</a>\u001b[0m model_args \u001b[39m=\u001b[39m candidate[GridSearchCV\u001b[39m.\u001b[39mMODEL_ARGS_IDX]\n\u001b[1;32m     <a href='file:///home/jeff/dev/ml-from-scratch/ml/model_selection.py?line=66'>67</a>\u001b[0m m \u001b[39m=\u001b[39m model(\u001b[39m*\u001b[39m\u001b[39m*\u001b[39mmodel_args)\n\u001b[0;32m---> <a href='file:///home/jeff/dev/ml-from-scratch/ml/model_selection.py?line=67'>68</a>\u001b[0m m\u001b[39m.\u001b[39;49mfit(X_train, Y_train)\n\u001b[1;32m     <a href='file:///home/jeff/dev/ml-from-scratch/ml/model_selection.py?line=69'>70</a>\u001b[0m Y_predicted \u001b[39m=\u001b[39m m\u001b[39m.\u001b[39mpredict(X_test)\n\u001b[1;32m     <a href='file:///home/jeff/dev/ml-from-scratch/ml/model_selection.py?line=70'>71</a>\u001b[0m model_cost[i] \u001b[39m+\u001b[39m\u001b[39m=\u001b[39m score\u001b[39m.\u001b[39mmeasure(Y_test, Y_predicted)\n",
      "File \u001b[0;32m~/dev/ml-from-scratch/ml/models/nn.py:30\u001b[0m, in \u001b[0;36mMLP.fit\u001b[0;34m(self, inputs, outputs)\u001b[0m\n\u001b[1;32m     <a href='file:///home/jeff/dev/ml-from-scratch/ml/models/nn.py?line=27'>28</a>\u001b[0m \u001b[39mdef\u001b[39;00m \u001b[39mfit\u001b[39m(\u001b[39mself\u001b[39m, inputs, outputs):\n\u001b[1;32m     <a href='file:///home/jeff/dev/ml-from-scratch/ml/models/nn.py?line=28'>29</a>\u001b[0m     inputs \u001b[39m=\u001b[39m np\u001b[39m.\u001b[39mc_[np\u001b[39m.\u001b[39mones(inputs\u001b[39m.\u001b[39mshape[\u001b[39m0\u001b[39m]), inputs]\n\u001b[0;32m---> <a href='file:///home/jeff/dev/ml-from-scratch/ml/models/nn.py?line=29'>30</a>\u001b[0m     errors \u001b[39m=\u001b[39m \u001b[39mself\u001b[39;49m\u001b[39m.\u001b[39;49msolver\u001b[39m.\u001b[39;49msolve(\u001b[39mself\u001b[39;49m, inputs, outputs)\n\u001b[1;32m     <a href='file:///home/jeff/dev/ml-from-scratch/ml/models/nn.py?line=31'>32</a>\u001b[0m     \u001b[39mself\u001b[39m\u001b[39m.\u001b[39mtrained \u001b[39m=\u001b[39m \u001b[39mTrue\u001b[39;00m\n\u001b[1;32m     <a href='file:///home/jeff/dev/ml-from-scratch/ml/models/nn.py?line=32'>33</a>\u001b[0m     \u001b[39mreturn\u001b[39;00m errors\n",
      "File \u001b[0;32m~/dev/ml-from-scratch/ml/algorithms/optimization.py:197\u001b[0m, in \u001b[0;36mBackpropSGD.solve\u001b[0;34m(self, model, inputs, outputs)\u001b[0m\n\u001b[1;32m    <a href='file:///home/jeff/dev/ml-from-scratch/ml/algorithms/optimization.py?line=193'>194</a>\u001b[0m layer_linear_outputs \u001b[39m=\u001b[39m model\u001b[39m.\u001b[39mlinear_outputs[layer_idx]\n\u001b[1;32m    <a href='file:///home/jeff/dev/ml-from-scratch/ml/algorithms/optimization.py?line=194'>195</a>\u001b[0m func \u001b[39m=\u001b[39m model\u001b[39m.\u001b[39mlayers[layer_idx][ACTIV_FUNC_IDX]\n\u001b[0;32m--> <a href='file:///home/jeff/dev/ml-from-scratch/ml/algorithms/optimization.py?line=196'>197</a>\u001b[0m step, delta \u001b[39m=\u001b[39m \u001b[39mself\u001b[39;49m\u001b[39m.\u001b[39;49mbackprop_hidden_layer(func, layer_linear_outputs,\n\u001b[1;32m    <a href='file:///home/jeff/dev/ml-from-scratch/ml/algorithms/optimization.py?line=197'>198</a>\u001b[0m                 layer_inputs, delta,\n\u001b[1;32m    <a href='file:///home/jeff/dev/ml-from-scratch/ml/algorithms/optimization.py?line=198'>199</a>\u001b[0m                 model\u001b[39m.\u001b[39;49mparams[layer_idx],\n\u001b[1;32m    <a href='file:///home/jeff/dev/ml-from-scratch/ml/algorithms/optimization.py?line=199'>200</a>\u001b[0m                 model\u001b[39m.\u001b[39;49mparams[layer_idx\u001b[39m+\u001b[39;49m\u001b[39m1\u001b[39;49m])\n\u001b[1;32m    <a href='file:///home/jeff/dev/ml-from-scratch/ml/algorithms/optimization.py?line=201'>202</a>\u001b[0m steps\u001b[39m.\u001b[39mput(step)\n\u001b[1;32m    <a href='file:///home/jeff/dev/ml-from-scratch/ml/algorithms/optimization.py?line=202'>203</a>\u001b[0m \u001b[39m# model.params[layer_idx] += step\u001b[39;00m\n",
      "File \u001b[0;32m~/dev/ml-from-scratch/ml/algorithms/optimization.py:145\u001b[0m, in \u001b[0;36mBackpropSGD.backprop_hidden_layer\u001b[0;34m(self, func, linear_output, input, delta_nxt_layer, weights, weights_nxt_layer)\u001b[0m\n\u001b[1;32m    <a href='file:///home/jeff/dev/ml-from-scratch/ml/algorithms/optimization.py?line=141'>142</a>\u001b[0m \u001b[39mdef\u001b[39;00m \u001b[39mbackprop_hidden_layer\u001b[39m(\u001b[39mself\u001b[39m, func, linear_output, \u001b[39minput\u001b[39m, delta_nxt_layer, weights, weights_nxt_layer):\n\u001b[1;32m    <a href='file:///home/jeff/dev/ml-from-scratch/ml/algorithms/optimization.py?line=142'>143</a>\u001b[0m     grad \u001b[39m=\u001b[39m func\u001b[39m.\u001b[39mgrad(linear_output)\n\u001b[0;32m--> <a href='file:///home/jeff/dev/ml-from-scratch/ml/algorithms/optimization.py?line=144'>145</a>\u001b[0m     delta \u001b[39m=\u001b[39m grad \u001b[39m*\u001b[39m (delta_nxt_layer \u001b[39m@\u001b[39;49m weights_nxt_layer[\u001b[39m1\u001b[39;49m:,:]\u001b[39m.\u001b[39;49mT)\n\u001b[1;32m    <a href='file:///home/jeff/dev/ml-from-scratch/ml/algorithms/optimization.py?line=146'>147</a>\u001b[0m     regularization_term \u001b[39m=\u001b[39m \u001b[39mself\u001b[39m\u001b[39m.\u001b[39mregularization \u001b[39m*\u001b[39m weights\n\u001b[1;32m    <a href='file:///home/jeff/dev/ml-from-scratch/ml/algorithms/optimization.py?line=147'>148</a>\u001b[0m     regularization_term[\u001b[39m0\u001b[39m,\u001b[39m0\u001b[39m] \u001b[39m=\u001b[39m \u001b[39m0.0\u001b[39m\n",
      "\u001b[0;31mKeyboardInterrupt\u001b[0m: "
     ]
    }
   ],
   "source": [
    "grid = GridSearchCV(stats_generator=ClassificationStats)\n",
    "\n",
    "_alpha=0.01\n",
    "_lambda = 0.001\n",
    "for num_neurons in [4, 8, 16]:\n",
    "    grid.add(MLP, {\n",
    "        \"layers\":(\n",
    "            (num_neurons, Relu()),\n",
    "            (1, Identity()), # 1-output regression\n",
    "        ),\n",
    "        \"input_width\": 8,\n",
    "        \"solver\": BackpropSGD(epochs=4000, learning_rate=_alpha, regularization=_lambda, batch_size=8, metrics=RMSE()),\n",
    "    })\n",
    "\n",
    "best = grid.search(X_train, y_train, num_folds=10, shuffle=False)"
   ]
  }
 ],
 "metadata": {
  "interpreter": {
   "hash": "ca48a1217c93acd9388dba04a449e77fab73d12f699c89515157fda392110c7b"
  },
  "kernelspec": {
   "display_name": "Python 3.8.10 ('env': venv)",
   "language": "python",
   "name": "python3"
  },
  "language_info": {
   "codemirror_mode": {
    "name": "ipython",
    "version": 3
   },
   "file_extension": ".py",
   "mimetype": "text/x-python",
   "name": "python",
   "nbconvert_exporter": "python",
   "pygments_lexer": "ipython3",
   "version": "3.8.10"
  },
  "orig_nbformat": 4
 },
 "nbformat": 4,
 "nbformat_minor": 2
}
