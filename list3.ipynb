{
 "cells": [
  {
   "cell_type": "code",
   "execution_count": null,
   "metadata": {},
   "outputs": [],
   "source": [
    "# model implementation\n",
    "from ml.models.clustering import KNN\n",
    "from ml.functions.distance import EuclideanDistance, MahalanobisDistance\n",
    "\n",
    "# model selection\n",
    "from ml.model_selection import GridSearchCV\n",
    "from ml.functions.metrics.classification import F1Score, BinaryAccuracy\n",
    "from ml.stats import ClassificationStats\n",
    "\n",
    "# data manipulation\n",
    "from ml.dataset import load_csv, split_train_test\n",
    "from ml.algorithms.normalization import MinMaxScaler\n",
    "\n",
    "# Utility\n",
    "import numpy as np\n",
    "import matplotlib.pyplot as plt\n",
    "\n",
    "np.random.seed(25)"
   ]
  },
  {
   "cell_type": "markdown",
   "metadata": {},
   "source": [
    "## Load dataset"
   ]
  },
  {
   "cell_type": "code",
   "execution_count": null,
   "metadata": {},
   "outputs": [],
   "source": [
    "X, y = load_csv('./datasets/kc2.csv')\n",
    "\n",
    "y = y.astype(int).squeeze()\n",
    "X_train, y_train, X_test, y_test = split_train_test(X, y, 0.8, shuffle=True)"
   ]
  },
  {
   "cell_type": "markdown",
   "metadata": {},
   "source": [
    "## Q1 a,b - K-Nearest Neighbors (KNN)"
   ]
  },
  {
   "cell_type": "markdown",
   "metadata": {},
   "source": [
    "### Grid search with cross validation and k-fold(k=10) for KNN(k=1,5) with Euclidean and Mahalanobis distances"
   ]
  },
  {
   "cell_type": "code",
   "execution_count": null,
   "metadata": {},
   "outputs": [],
   "source": [
    "grid = GridSearchCV(stats_generator=ClassificationStats)\n",
    "\n",
    "for k in [1, 5]:\n",
    "    grid.add(KNN, {\"k\": k, \"distance\": EuclideanDistance, \"data_scaler\": MinMaxScaler})\n",
    "    grid.add(KNN, {\"k\": k, \"distance\": MahalanobisDistance, \"data_scaler\": MinMaxScaler})\n",
    "\n",
    "grid.search(X_train, y_train, num_folds=10, score=F1Score(), score_minimize=False, shuffle=False)\n",
    "print(\"Best KNN:\", grid.best_model_params)"
   ]
  },
  {
   "cell_type": "markdown",
   "metadata": {},
   "source": [
    "### Performance of the best model on the test dataset"
   ]
  },
  {
   "cell_type": "code",
   "execution_count": null,
   "metadata": {},
   "outputs": [],
   "source": [
    "knnX = grid.best_model(**grid.best_model_params)\n",
    "knnX.fit(X_train, y_train)\n",
    "\n",
    "y_pred = knnX.predict(X_test)\n",
    "\n",
    "print(\"Accuracy:\", BinaryAccuracy().measure(y_test, y_pred))\n",
    "print(\"F1-score:\", F1Score().measure(y_test, y_pred))"
   ]
  },
  {
   "cell_type": "markdown",
   "metadata": {},
   "source": [
    "### Report K-fold mean +- standard deviation for: F1-score, Accuracy, Recall and Precision"
   ]
  },
  {
   "cell_type": "code",
   "execution_count": null,
   "metadata": {},
   "outputs": [],
   "source": [
    "candidates = [\"K=1, Euclid.\", \"K=1, Mahal.\", \"K=5 Euclid.\", \"K=5 Mahal.\"]\n",
    "num_candidates = len(grid.candidates)\n",
    "k=0\n",
    "plt.figure(figsize=(30, 4))\n",
    "plt.suptitle(\"KNN\", fontsize=20)\n",
    "plt.subplots_adjust(top=0.7)\n",
    "for metric in ['f1', 'recall', 'precision', 'binary_accuracy']:\n",
    "    means = []\n",
    "    std = []\n",
    "    \n",
    "    for i in range(num_candidates):\n",
    "        means.append(np.mean(grid.stats[i].stats[\"values\"][metric]))\n",
    "        std.append(np.std(grid.stats[i].stats[\"values\"][metric]))\n",
    "\n",
    "    plt.subplot(1, 4, k+1)\n",
    "    plt.errorbar(np.arange(num_candidates), means, std, fmt='ok', lw=3)\n",
    "    plt.errorbar(grid.index_of_best, means[grid.index_of_best], std[grid.index_of_best], ecolor='red', fmt='ok', lw=3)\n",
    "    \n",
    "    plt.title(metric.upper() + \" mean and std deviation\", fontsize=20)\n",
    "    plt.xticks(np.arange(num_candidates), labels=candidates)\n",
    "    plt.xlabel(\"K, distance\", fontsize=16)\n",
    "    plt.ylabel(metric, fontsize=16)\n",
    "\n",
    "    print(metric.upper())\n",
    "    for c in range(num_candidates):\n",
    "        print(f\"\\t{candidates[c]}:\", means[c], \"+-\", std[c])\n",
    "    \n",
    "    k+=1"
   ]
  }
 ],
 "metadata": {
  "interpreter": {
   "hash": "ca48a1217c93acd9388dba04a449e77fab73d12f699c89515157fda392110c7b"
  },
  "kernelspec": {
   "display_name": "ml",
   "language": "python",
   "name": "ml"
  },
  "language_info": {
   "codemirror_mode": {
    "name": "ipython",
    "version": 3
   },
   "file_extension": ".py",
   "mimetype": "text/x-python",
   "name": "python",
   "nbconvert_exporter": "python",
   "pygments_lexer": "ipython3",
   "version": "3.8.10"
  },
  "orig_nbformat": 4
 },
 "nbformat": 4,
 "nbformat_minor": 2
}
