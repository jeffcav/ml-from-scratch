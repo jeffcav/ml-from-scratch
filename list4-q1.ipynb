{
 "cells": [
  {
   "cell_type": "code",
   "execution_count": 1,
   "metadata": {},
   "outputs": [],
   "source": [
    "# model implementation\n",
    "from ml.models.nn import MLP\n",
    "from ml.algorithms.optimization import BackpropSGD\n",
    "from ml.functions.activation import Sigmoid, Identity, Relu\n",
    "\n",
    "# model selection\n",
    "from ml.model_selection import GridSearchCV\n",
    "from ml.functions.metrics.regression import RMSE, MAE, MRE\n",
    "\n",
    "# data manipulation\n",
    "from ml.dataset import load_csv, split_train_test\n",
    "from ml.algorithms.normalization import MinMaxScaler\n",
    "\n",
    "# Utility\n",
    "import numpy as np\n",
    "import matplotlib.pyplot as plt\n",
    "\n",
    "np.random.seed(25)"
   ]
  },
  {
   "cell_type": "markdown",
   "metadata": {},
   "source": [
    "## Q1 - Neural Net for regression"
   ]
  },
  {
   "cell_type": "markdown",
   "metadata": {},
   "source": [
    "### Load dataset\n",
    "I'm using my implmenentation of k-fold with cross validation to find best hyperparameters.\n",
    "\n",
    "The code which splits the dataset into **train, validation and test** is left for reference."
   ]
  },
  {
   "cell_type": "code",
   "execution_count": 2,
   "metadata": {},
   "outputs": [],
   "source": [
    "X, y = load_csv('./datasets/concrete.csv')"
   ]
  },
  {
   "cell_type": "markdown",
   "metadata": {},
   "source": [
    "#### Split into train (60%), validation (20%) and test (20%) - unused"
   ]
  },
  {
   "cell_type": "code",
   "execution_count": 3,
   "metadata": {},
   "outputs": [],
   "source": [
    "# X_train, y_train, X_test, y_test = split_train_test(X, y, 0.6, shuffle=True)\n",
    "# X_train, y_train, X_val, y_val = split_train_test(X_train, y_train, 0.75, shuffle=False)"
   ]
  },
  {
   "cell_type": "markdown",
   "metadata": {},
   "source": [
    "#### Split into train (70%) and test (30%)"
   ]
  },
  {
   "cell_type": "code",
   "execution_count": 4,
   "metadata": {},
   "outputs": [],
   "source": [
    "X_train, y_train, X_test, y_test = split_train_test(X, y, 0.7, shuffle=True)"
   ]
  },
  {
   "cell_type": "markdown",
   "metadata": {},
   "source": [
    "### Scale data"
   ]
  },
  {
   "cell_type": "code",
   "execution_count": 5,
   "metadata": {},
   "outputs": [],
   "source": [
    "# create min-max scalers\n",
    "x_scaler = MinMaxScaler().fit(X_train)\n",
    "y_scaler = MinMaxScaler().fit(y_train)\n",
    "\n",
    "# scale train data\n",
    "X_train_scaled = x_scaler.transform(X_train)\n",
    "y_train_scaled = y_scaler.transform(y_train)\n",
    "\n",
    "# scale test data\n",
    "X_test_scaled = x_scaler.transform(X_test)\n",
    "y_test_scaled = y_scaler.transform(y_test)"
   ]
  },
  {
   "cell_type": "markdown",
   "metadata": {},
   "source": [
    "### Find best hyperparameters (num neurons and activation function) using grid search"
   ]
  },
  {
   "cell_type": "code",
   "execution_count": 6,
   "metadata": {},
   "outputs": [],
   "source": [
    "grid = GridSearchCV()\n",
    "\n",
    "# fixed hyperparams\n",
    "reg = 0.001\n",
    "momentum=0.8\n",
    "\n",
    "# for lr in [0.2, 0.1, 0.01]:\n",
    "for lr in [0.1]:\n",
    "    for num_neurons in [16]:\n",
    "        for function in [Relu, Sigmoid]:\n",
    "\n",
    "            solver = BackpropSGD(epochs=1000,\n",
    "                        learning_rate=lr,     # <-- hyperparam under test\n",
    "                        regularization=reg,\n",
    "                        momentum=momentum,\n",
    "                        batch_size=32,\n",
    "                        metrics=RMSE())\n",
    "\n",
    "            layers = (\n",
    "                (num_neurons, function()),     # <-- hyperparams under test\n",
    "                (1, Identity()),\n",
    "            )\n",
    "\n",
    "            grid.add(MLP, {\n",
    "                \"layers\":layers,\n",
    "                \"solver\": solver})\n",
    "\n",
    "best = grid.search(X_train_scaled, y_train_scaled, num_folds=10, shuffle=False)"
   ]
  },
  {
   "cell_type": "markdown",
   "metadata": {},
   "source": [
    "### Hyperparameters of the best MLP"
   ]
  },
  {
   "cell_type": "code",
   "execution_count": 7,
   "metadata": {},
   "outputs": [
    {
     "name": "stdout",
     "output_type": "stream",
     "text": [
      "Best hyperparameters for MLP: {'layers': ((16, Sigmoid), (1, Identity)), 'solver': Epochs=1000, LearningRate=0.1, Regularization=0.001, Momentum=0.8}\n"
     ]
    }
   ],
   "source": [
    "print(\"Best hyperparameters for MLP:\", best[1])"
   ]
  },
  {
   "cell_type": "code",
   "execution_count": 8,
   "metadata": {},
   "outputs": [],
   "source": [
    "solver = BackpropSGD(epochs=1000,\n",
    "                    learning_rate=0.1,\n",
    "                    regularization=0.001,\n",
    "                    momentum=0.8,\n",
    "                    batch_size=32,\n",
    "                    metrics=RMSE())\n",
    "# \n",
    "layers = (\n",
    "    (16, Sigmoid()),  # <-- hyperparams we are evaluating\n",
    "    (1, Identity()),\n",
    ")\n",
    "# \n",
    "mlp = MLP(layers=layers, solver=solver)\n",
    "train_err, test_err = mlp.fit(X_train_scaled, y_train_scaled, X_test_scaled, y_test_scaled)"
   ]
  },
  {
   "cell_type": "markdown",
   "metadata": {},
   "source": [
    "### Train MLP with best hyperparameters"
   ]
  },
  {
   "cell_type": "code",
   "execution_count": 9,
   "metadata": {},
   "outputs": [],
   "source": [
    "mlp = MLP(**best[1])\n",
    "train_err, test_err = mlp.fit(X_train_scaled, y_train_scaled, X_test_scaled, y_test_scaled)"
   ]
  },
  {
   "cell_type": "markdown",
   "metadata": {},
   "source": [
    "### Report train and test errors during training"
   ]
  },
  {
   "cell_type": "code",
   "execution_count": 10,
   "metadata": {},
   "outputs": [
    {
     "data": {
      "text/plain": [
       "Text(0.5, 0, 'Epoch')"
      ]
     },
     "execution_count": 10,
     "metadata": {},
     "output_type": "execute_result"
    },
    {
     "data": {
      "image/png": "[encoded data removed]",
      "text/plain": [
       "<Figure size 432x288 with 1 Axes>"
      ]
     },
     "metadata": {
      "needs_background": "light"
     },
     "output_type": "display_data"
    }
   ],
   "source": [
    "plt.plot(train_err)\n",
    "plt.plot(test_err)\n",
    "\n",
    "plt.ylabel(\"RMSE\")\n",
    "plt.xlabel(\"Epoch\")"
   ]
  },
  {
   "cell_type": "markdown",
   "metadata": {},
   "source": [
    "### Report train and test RMSE, MAE and MRE"
   ]
  },
  {
   "cell_type": "code",
   "execution_count": 11,
   "metadata": {},
   "outputs": [
    {
     "name": "stdout",
     "output_type": "stream",
     "text": [
      "--\n",
      "RMSE(train): 6.54800486970027 \n",
      "RMSE (test):  6.967964793844331\n",
      "--\n",
      "MAE(train): 4.98671603334992 \n",
      "MAE (test):  5.363343606236673\n",
      "--\n",
      "MRE(train): 6.54800486970027 \n",
      "MRE (test):  6.967964793844331\n"
     ]
    }
   ],
   "source": [
    "y_train_pred_scaled = mlp.predict(X_train_scaled)\n",
    "y_train_pred = y_scaler.inverse_transform(y_train_pred_scaled)\n",
    "\n",
    "y_test_pred_scaled = mlp.predict(X_test_scaled)\n",
    "y_test_pred = y_scaler.inverse_transform(y_test_pred_scaled)\n",
    "\n",
    "rmse = RMSE()\n",
    "mae = MAE()\n",
    "mre = MRE()\n",
    "\n",
    "print(\"--\\nRMSE(train):\", rmse.measure(y_train, y_train_pred), \"\\nRMSE (test): \", rmse.measure(y_test, y_test_pred))\n",
    "print(\"--\\nMAE(train):\",   mae.measure(y_train, y_train_pred), \"\\nMAE (test): \",   mae.measure(y_test, y_test_pred))\n",
    "print(\"--\\nMRE(train):\",  rmse.measure(y_train, y_train_pred), \"\\nMRE (test): \",  rmse.measure(y_test, y_test_pred))"
   ]
  }
 ],
 "metadata": {
  "interpreter": {
   "hash": "ca48a1217c93acd9388dba04a449e77fab73d12f699c89515157fda392110c7b"
  },
  "kernelspec": {
   "display_name": "Python 3.8.10 ('env': venv)",
   "language": "python",
   "name": "python3"
  },
  "language_info": {
   "codemirror_mode": {
    "name": "ipython",
    "version": 3
   },
   "file_extension": ".py",
   "mimetype": "text/x-python",
   "name": "python",
   "nbconvert_exporter": "python",
   "pygments_lexer": "ipython3",
   "version": "3.8.10"
  },
  "orig_nbformat": 4
 },
 "nbformat": 4,
 "nbformat_minor": 2
}
