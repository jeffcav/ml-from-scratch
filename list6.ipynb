{
 "cells": [
  {
   "cell_type": "code",
   "execution_count": 13,
   "metadata": {},
   "outputs": [],
   "source": [
    "# model selection\n",
    "from ml.models.clustering import KMeans\n",
    "from ml.functions.metrics.regression import RMSE\n",
    "from ml.functions.distance import EuclideanDistance, MahalanobisDistance\n",
    "\n",
    "\n",
    "# data manipulation\n",
    "from ml.dataset import load_csv, split_train_test\n",
    "from ml.algorithms.normalization import MinMaxScaler\n",
    "\n",
    "# Utility\n",
    "import numpy as np\n",
    "import matplotlib.pyplot as plt\n",
    "\n",
    "np.random.seed(20)"
   ]
  },
  {
   "cell_type": "markdown",
   "metadata": {},
   "source": [
    "## Q1 - K-Means"
   ]
  },
  {
   "cell_type": "markdown",
   "metadata": {},
   "source": [
    "#### Load dataset"
   ]
  },
  {
   "cell_type": "code",
   "execution_count": 2,
   "metadata": {},
   "outputs": [],
   "source": [
    "X_quake, _ = load_csv('./datasets/quake.csv', no_output=True)"
   ]
  },
  {
   "cell_type": "code",
   "execution_count": 4,
   "metadata": {},
   "outputs": [],
   "source": [
    "scaler = MinMaxScaler()\n",
    "scaler.fit(X_quake)\n",
    "\n",
    "X_scaled = scaler.transform(X_quake)"
   ]
  },
  {
   "cell_type": "markdown",
   "metadata": {},
   "source": [
    "### Q1.a - find best K from DB-index with euclidean distance"
   ]
  },
  {
   "cell_type": "code",
   "execution_count": 11,
   "metadata": {},
   "outputs": [
    {
     "name": "stdout",
     "output_type": "stream",
     "text": [
      "[K=4] -> DB-index=11.036715093880296, ReconstructionError=2333.986838639289\n",
      "[K=5] -> DB-index=10.252761367996934, ReconstructionError=3949.5339514519583\n",
      "[K=6] -> DB-index=8.842515271870512, ReconstructionError=4930.767387581563\n",
      "[K=7] -> DB-index=8.03439840955557, ReconstructionError=5474.80840895108\n",
      "[K=8] -> DB-index=8.03439840955557, ReconstructionError=5474.80840895108\n",
      "[K=9] -> DB-index=8.03439840955557, ReconstructionError=5474.80840895108\n",
      "[K=10] -> DB-index=7.3489964404555534, ReconstructionError=7155.07131595029\n",
      "[K=11] -> DB-index=6.994045178343833, ReconstructionError=7725.650351470904\n",
      "[K=12] -> DB-index=6.850544101914939, ReconstructionError=8378.654052101028\n",
      "[K=13] -> DB-index=6.25735229569542, ReconstructionError=9105.053530091815\n",
      "[K=14] -> DB-index=6.107186519333494, ReconstructionError=9727.729366567499\n",
      "[K=15] -> DB-index=5.861962596069891, ReconstructionError=10176.061590942023\n",
      "[K=16] -> DB-index=5.861962596069891, ReconstructionError=10176.061590942023\n",
      "[K=17] -> DB-index=5.726634577496923, ReconstructionError=11467.849955144295\n",
      "[K=18] -> DB-index=5.5630064867204, ReconstructionError=11660.819679549266\n",
      "[K=19] -> DB-index=5.324479446106745, ReconstructionError=12312.064600693708\n",
      "[K=20] -> DB-index=5.25506933696607, ReconstructionError=13419.363892044265\n"
     ]
    }
   ],
   "source": [
    "best_k = None\n",
    "best_model = None\n",
    "best_global_db = None\n",
    "\n",
    "for num_clusters in np.arange(4, 21):\n",
    "    best_local_k = None\n",
    "    best_local_db = None\n",
    "    best_local_model = None\n",
    "    \n",
    "    for i in range(20):\n",
    "        model = KMeans(num_clusters, 500, distance=EuclideanDistance)\n",
    "        err, centroids = model.fit(X_scaled)\n",
    "\n",
    "        db = model.db_index(X_scaled)\n",
    "        \n",
    "        if best_local_db is None or db < best_local_db:\n",
    "            best_local_db = db\n",
    "            best_local_model = model\n",
    "            best_local_k = num_clusters\n",
    "    \n",
    "    if best_global_db is None or best_local_db < best_global_db:\n",
    "        best_global_k = best_local_k\n",
    "        best_global_db = best_local_db\n",
    "        best_global_model = best_local_model\n",
    "\n",
    "    print(f\"[K={num_clusters}] -> DB-index={best_global_db}, ReconstructionError={best_global_model.errors[-1]}\")\n"
   ]
  },
  {
   "cell_type": "markdown",
   "metadata": {},
   "source": [
    "#### Best model"
   ]
  },
  {
   "cell_type": "code",
   "execution_count": 10,
   "metadata": {},
   "outputs": [
    {
     "name": "stdout",
     "output_type": "stream",
     "text": [
      "[BEST] -> K=20, DB-index=5.145863716105824, ReconstructionError=13501.627339549654\n"
     ]
    }
   ],
   "source": [
    "print(f\"[BEST] -> K={best_global_k}, DB-index={best_global_db}, ReconstructionError={best_global_model.errors[-1]}\")"
   ]
  },
  {
   "cell_type": "code",
   "execution_count": 12,
   "metadata": {},
   "outputs": [
    {
     "data": {
      "image/png": "[encoded data removed]",
      "text/plain": [
       "<Figure size 432x288 with 1 Axes>"
      ]
     },
     "metadata": {
      "needs_background": "light"
     },
     "output_type": "display_data"
    }
   ],
   "source": [
    "# colors = ['red', 'green']\n",
    "plt.scatter(X_scaled[:,0], X_scaled[:,1], c='lightgray')\n",
    "\n",
    "for k in range(best_global_k):\n",
    "    plt.scatter(best_global_model.centroids[k, 0, 0], best_global_model.centroids[k, 0, 1])\n",
    "plt.show()"
   ]
  },
  {
   "cell_type": "markdown",
   "metadata": {},
   "source": [
    "### Q1.b - find best K from DB-index with Mahalanobis distance"
   ]
  },
  {
   "cell_type": "markdown",
   "metadata": {},
   "source": [
    "## Q2 - PCA"
   ]
  },
  {
   "cell_type": "markdown",
   "metadata": {},
   "source": [
    "### Prepare dataset"
   ]
  },
  {
   "cell_type": "code",
   "execution_count": 120,
   "metadata": {},
   "outputs": [],
   "source": [
    "X_penguin, _ = load_csv('./datasets/penguins.csv')"
   ]
  },
  {
   "cell_type": "code",
   "execution_count": 121,
   "metadata": {},
   "outputs": [],
   "source": [
    "penguin_data_scaler = MinMaxScaler()\n",
    "penguin_data_scaler.fit(X_penguin)\n",
    "\n",
    "X_penguin_scaled = penguin_data_scaler.transform(X_penguin)\n",
    "\n",
    "mean = np.mean(X_penguin_scaled, axis=0, keepdims=True)\n",
    "X_penguin_centralized = X_penguin_scaled - mean"
   ]
  },
  {
   "cell_type": "markdown",
   "metadata": {},
   "source": [
    "### SVD decomposition"
   ]
  },
  {
   "cell_type": "code",
   "execution_count": 122,
   "metadata": {},
   "outputs": [],
   "source": [
    "U, S, V = np.linalg.svd(X_penguin_centralized, full_matrices=True)"
   ]
  },
  {
   "cell_type": "markdown",
   "metadata": {},
   "source": [
    "### Q2.a - Data projection\n",
    "A projection matrix P is given by U.T, and a projection is computed by P@S\n"
   ]
  },
  {
   "cell_type": "code",
   "execution_count": 123,
   "metadata": {},
   "outputs": [
    {
     "name": "stdout",
     "output_type": "stream",
     "text": [
      "Reconstruction error: 0.4982738092286141\n"
     ]
    }
   ],
   "source": [
    "num_dims = 2\n",
    "\n",
    "# projection matrix\n",
    "P = U[:,:num_dims]\n",
    "\n",
    "# projected dataset\n",
    "projected_2D = P @ np.diag(S[:num_dims])\n",
    "\n",
    "# reconstructed dataset\n",
    "reconstructed_4D = (projected_2D @ P.T) @ U[:,:4]\n",
    "reconstruction_error = RMSE().measure(X_centralized, reconstructed4D)\n",
    "print(f\"Reconstruction error: {reconstruction_error}\")"
   ]
  },
  {
   "cell_type": "code",
   "execution_count": 124,
   "metadata": {},
   "outputs": [
    {
     "data": {
      "image/png": "[encoded data removed]",
      "text/plain": [
       "<Figure size 432x288 with 1 Axes>"
      ]
     },
     "metadata": {
      "needs_background": "light"
     },
     "output_type": "display_data"
    }
   ],
   "source": [
    "# Plotting 2D projection of the dataset\n",
    "x_proj = projected_2D[:, 0]\n",
    "y_proj = projected_2D[:, 1]\n",
    "plt.scatter(x_proj, y_proj)\n",
    "plt.show()"
   ]
  },
  {
   "cell_type": "markdown",
   "metadata": {},
   "source": [
    "### Q2.b - Exaplanable Variance"
   ]
  },
  {
   "cell_type": "code",
   "execution_count": 125,
   "metadata": {},
   "outputs": [
    {
     "data": {
      "image/png": "[encoded data removed]",
      "text/plain": [
       "<Figure size 432x288 with 1 Axes>"
      ]
     },
     "metadata": {
      "needs_background": "light"
     },
     "output_type": "display_data"
    }
   ],
   "source": [
    "num_dimensions = np.arange(X_centralized.shape[1])\n",
    "\n",
    "normalized_s = S/np.sum(S)\n",
    "explainable_variance_ratio = np.cumsum(normalized_s)\n",
    "\n",
    "# plot\n",
    "plt.plot(num_dimensions, explainable_variance_ratio)\n",
    "plt.title(\"PCA compression performance\", size=16)\n",
    "plt.ylabel(\"Explained variance ratio\", size=12)\n",
    "plt.xlabel(\"Number of dimensions\", size=12)\n",
    "plt.xticks(num_dimensions)\n",
    "plt.show()\n"
   ]
  }
 ],
 "metadata": {
  "interpreter": {
   "hash": "ca48a1217c93acd9388dba04a449e77fab73d12f699c89515157fda392110c7b"
  },
  "kernelspec": {
   "display_name": "Python 3.8.10 ('env': venv)",
   "language": "python",
   "name": "python3"
  },
  "language_info": {
   "codemirror_mode": {
    "name": "ipython",
    "version": 3
   },
   "file_extension": ".py",
   "mimetype": "text/x-python",
   "name": "python",
   "nbconvert_exporter": "python",
   "pygments_lexer": "ipython3",
   "version": "3.8.10"
  },
  "orig_nbformat": 4
 },
 "nbformat": 4,
 "nbformat_minor": 2
}
