{
 "cells": [
  {
   "cell_type": "code",
   "execution_count": 1,
   "metadata": {},
   "outputs": [],
   "source": [
    "# model implementation\n",
    "from ml.models.nn import MLP\n",
    "from ml.functions.loss import CrossEntropyLoss\n",
    "from ml.algorithms.optimization import BackpropSGD\n",
    "from ml.functions.activation import Sigmoid, Identity, Relu\n",
    "\n",
    "# model selection\n",
    "from ml.model_selection import GridSearchCV\n",
    "\n",
    "from ml.functions.metrics.classification import F1Score, BinaryAccuracy, MulticlassClassificationError\n",
    "from ml.functions.metrics.regression import RMSE, MAE, MRE\n",
    "\n",
    "from ml.stats import ClassificationStats\n",
    "\n",
    "# data manipulation\n",
    "from ml.dataset import load_csv, split_train_test\n",
    "from ml.algorithms.normalization import MinMaxScaler\n",
    "\n",
    "# Utility\n",
    "import numpy as np\n",
    "import matplotlib.pyplot as plt\n",
    "\n",
    "import sklearn.preprocessing\n",
    "\n",
    "np.random.seed(25)"
   ]
  },
  {
   "cell_type": "markdown",
   "metadata": {},
   "source": [
    "## Q1 - Neural Net for classification"
   ]
  },
  {
   "cell_type": "markdown",
   "metadata": {},
   "source": [
    "### Load dataset\n",
    "I'm using my implmenentation of k-fold with cross validation to find best hyperparameters.\n",
    "\n",
    "The code which splits the dataset into **train, validation and test** is left for reference."
   ]
  },
  {
   "cell_type": "code",
   "execution_count": 2,
   "metadata": {},
   "outputs": [],
   "source": [
    "X, y = load_csv('./datasets/vowel.csv')\n",
    "\n",
    "# one-hot encoding\n",
    "y = y.astype(int).squeeze()\n",
    "\n",
    "onehot_dim = (y.shape[0], y.max()+1)\n",
    "rows = np.arange(y.shape[0])\n",
    "\n",
    "y_onehot = np.zeros(onehot_dim)\n",
    "y_onehot[rows, y] = 1"
   ]
  },
  {
   "cell_type": "markdown",
   "metadata": {},
   "source": [
    "#### Split into train (60%), validation (20%) and test (20%) - unused"
   ]
  },
  {
   "cell_type": "code",
   "execution_count": 3,
   "metadata": {},
   "outputs": [],
   "source": [
    "# X_train, y_train, X_test, y_test = split_train_test(X, Y, 0.6, shuffle=True)\n",
    "# X_train, y_train, X_val, y_val = split_train_test(X_train, y_train, 0.75, shuffle=False)"
   ]
  },
  {
   "cell_type": "markdown",
   "metadata": {},
   "source": [
    "#### Split into train (70%) and test (30%)"
   ]
  },
  {
   "cell_type": "code",
   "execution_count": 4,
   "metadata": {},
   "outputs": [],
   "source": [
    "X_train, y_train, X_test, y_test = split_train_test(X, y_onehot, 0.7, shuffle=True)"
   ]
  },
  {
   "cell_type": "markdown",
   "metadata": {},
   "source": [
    "### Scale data"
   ]
  },
  {
   "cell_type": "code",
   "execution_count": 5,
   "metadata": {},
   "outputs": [],
   "source": [
    "# scale dataset\n",
    "x_scaler = MinMaxScaler().fit(X_train)\n",
    "\n",
    "X_train_scaled = x_scaler.transform(X_train)\n",
    "X_test_scaled = x_scaler.transform(X_test)"
   ]
  },
  {
   "cell_type": "markdown",
   "metadata": {},
   "source": [
    "### Find best hyperparameters (num neurons and activation function) using grid search"
   ]
  },
  {
   "cell_type": "code",
   "execution_count": 61,
   "metadata": {},
   "outputs": [],
   "source": [
    "solver = BackpropSGD(epochs=3000,\n",
    "                    learning_rate=0.15,\n",
    "                    regularization=0,\n",
    "                    momentum=0.9,\n",
    "                    batch_size=32,\n",
    "                    metrics=MulticlassClassificationError())\n",
    "layers = (\n",
    "    (64, Sigmoid()),\n",
    "    (11, Sigmoid()),\n",
    ")\n",
    "\n",
    "mlp = MLP(layers=layers, solver=solver, loss=CrossEntropyLoss)\n",
    "\n",
    "train_err, test_err = mlp.fit(\n",
    "    X_train_scaled, y_train,\n",
    "    X_test_scaled,  y_test)"
   ]
  },
  {
   "cell_type": "code",
   "execution_count": 62,
   "metadata": {},
   "outputs": [
    {
     "data": {
      "text/plain": [
       "Text(0.5, 0, 'Epoch')"
      ]
     },
     "execution_count": 62,
     "metadata": {},
     "output_type": "execute_result"
    },
    {
     "data": {
      "image/png": "[encoded data removed]",
      "text/plain": [
       "<Figure size 432x288 with 1 Axes>"
      ]
     },
     "metadata": {
      "needs_background": "light"
     },
     "output_type": "display_data"
    }
   ],
   "source": [
    "plt.plot(train_err, label=\"train\")\n",
    "plt.plot(test_err, label=\"test\")\n",
    "plt.legend()\n",
    "plt.ylabel(\"error\")\n",
    "plt.xlabel(\"Epoch\")"
   ]
  },
  {
   "cell_type": "code",
   "execution_count": 8,
   "metadata": {},
   "outputs": [
    {
     "name": "stdout",
     "output_type": "stream",
     "text": [
      "(297, 11) (297,)\n",
      "(297, 11) (297,)\n",
      "pred= [8 3 8 8 8 8 3 8 8 8 8 8 8 8 8 8 8 8 8 8 8 3 8 8 8 8 8 8 8 8 8 8 8 8 8 8 8\n",
      " 3 8 8 8 8 8 8 3 8 3 8 8 8 8 8 8 8 3 8 8 8 8 8 3 8 8 8 8 8 8 8 8 8 8 8 8 8\n",
      " 8 8 8 8 8 8 8 8 8 8 8 8 8 8 8 8 8 8 8 8 8 8 8 8 8 8 8 8 8 8 8 8 8 8 8 3 8\n",
      " 3 8 8 8 8 8 3 8 8 8 8 8 8 8 8 8 8 8 8 8 8 8 2 8 8 8 8 8 8 8 8 8 2 8 8 8 8\n",
      " 8 8 8 8 8 8 3 8 8 8 8 8 8 8 8 8 8 8 8 8 8 8 8 8 8 3 8 3 8 8 8 8 8 8 8 8 8\n",
      " 8 8 8 8 8 8 8 8 8 8 8 8 8 8 8 8 8 8 8 8 8 3 2 8 8 8 8 8 8 8 8 8 8 8 8 8 8\n",
      " 8 3 8 2 8 8 8 8 8 8 8 8 8 3 3 8 8 8 8 8 8 8 8 8 8 8 8 8 8 8 8 8 8 8 8 8 8\n",
      " 8 8 8 8 8 8 8 8 8 8 8 8 8 8 8 8 8 8 3 8 8 8 8 8 8 8 8 8 8 8 8 8 8 8 2 8 8\n",
      " 2]\n",
      "test= [ 8  0  3  2  5 10 10  8  3  0  4  8  9  5  8  1  2 10  6  8  4  5  6  7\n",
      "  0  2  6  7  7  4  1  4  9  5  3  1  1  4  6  6  2  4  1  1  8  0  5  1\n",
      "  1  6  6  2  3  9  0  8  4  9  6  2  0  8  6  0  9  7  7  2  7  5  4  6\n",
      " 10  3  4  8  8  4  8  7  2  2  1  1  3  6 10  4  0  7  1  4  4  9  3  8\n",
      "  2  4  6  0 10  3  6  2 10  4  7  4  0 10  2  8 10  3  8  3  3  0  2  2\n",
      "  2  2  4  9  2  8  4  3 10  6  6  2  7  8  3  5  5  6  3  1  3  1 10  1\n",
      "  3 10  3  6  9  2 10 10  2  3  0  4  3  1  0 10  0  9  4  7  5  0  7  5\n",
      "  8  0  5  2  8 10  0 10  8  5 10  9  6  2  1  3  9  5  3  9  8  8  6  0\n",
      "  1  3  8  9 10  2  8  7  0  8  2  2  9  5  1  8 10  8  0 10  3 10  7 10\n",
      "  1  4 10  4  2  1 10  1  6  0  4  4  0  5  4  3  4  0  8  3  1  4 10  2\n",
      "  9  5  5  0  9  1  2  7  3  5  6  5  9  3  0  2  3  8 10  2  7  4  9  0\n",
      " 10  9  6  7  7  7  7  6  3  6  8  2  1  0  1  6  0  8  7 10  1  5  3  8\n",
      "  6  4  1  3 10  8  2  7  8]\n"
     ]
    }
   ],
   "source": [
    "\n",
    "pred = mlp.predict(X_test)\n",
    "\n",
    "print(pred.shape, np.argmax(pred, axis=1).shape)\n",
    "print(y_test.shape, np.argmax(y_test, axis=1).shape)\n",
    "\n",
    "print(\"pred=\", np.argmax(pred, axis=1))\n",
    "print(\"test=\", np.argmax(y_test, axis=1))"
   ]
  },
  {
   "cell_type": "code",
   "execution_count": 9,
   "metadata": {},
   "outputs": [
    {
     "data": {
      "text/plain": [
       "True"
      ]
     },
     "execution_count": 9,
     "metadata": {},
     "output_type": "execute_result"
    }
   ],
   "source": [
    "mlp.is_multiclass"
   ]
  },
  {
   "cell_type": "code",
   "execution_count": 10,
   "metadata": {},
   "outputs": [
    {
     "data": {
      "text/plain": [
       "True"
      ]
     },
     "execution_count": 10,
     "metadata": {},
     "output_type": "execute_result"
    }
   ],
   "source": [
    "mlp.is_classifier"
   ]
  },
  {
   "cell_type": "code",
   "execution_count": 11,
   "metadata": {},
   "outputs": [],
   "source": [
    "# y_hat = mlp.predict_proba(X_test_scaled)\n",
    "\n",
    "# acc = BinaryAccuracy()\n",
    "# acc.measure(y_test, y_hat)"
   ]
  },
  {
   "cell_type": "code",
   "execution_count": 12,
   "metadata": {},
   "outputs": [],
   "source": [
    "# grid = GridSearchCV()\n",
    "\n",
    "# # fixed hyperparams\n",
    "# reg = 0.001\n",
    "# momentum=0.8\n",
    "\n",
    "# for lr in [0.1]:\n",
    "#     for num_neurons in [16, 32]:\n",
    "#         for function in [Relu, Sigmoid]:\n",
    "\n",
    "#             solver = BackpropSGD(epochs=1000,\n",
    "#                         learning_rate=lr,     # <-- hyperparam under test\n",
    "#                         regularization=reg,\n",
    "#                         momentum=momentum,\n",
    "#                         batch_size=32,\n",
    "#                         metrics=RMSE())\n",
    "\n",
    "#             layers = (\n",
    "#                 (num_neurons, function()),     # <-- hyperparams under test\n",
    "#                 (1, Sigmoid()),\n",
    "#             )\n",
    "\n",
    "#             grid.add(MLP, {\n",
    "#                 \"layers\":layers,\n",
    "#                 \"input_width\": X_train.shape[1],\n",
    "#                 \"solver\": solver,\n",
    "#                 \"is_classifier\": True})\n",
    "\n",
    "# best = grid.search(X_train_scaled, y_train_scaled, num_folds=10, shuffle=False)"
   ]
  },
  {
   "cell_type": "markdown",
   "metadata": {},
   "source": [
    "### Hyperparameters of the best MLP"
   ]
  },
  {
   "cell_type": "code",
   "execution_count": 13,
   "metadata": {},
   "outputs": [],
   "source": [
    "# print(\"Best hyperparameters for MLP:\", best[1])"
   ]
  },
  {
   "cell_type": "markdown",
   "metadata": {},
   "source": [
    "## Drafts"
   ]
  }
 ],
 "metadata": {
  "interpreter": {
   "hash": "ca48a1217c93acd9388dba04a449e77fab73d12f699c89515157fda392110c7b"
  },
  "kernelspec": {
   "display_name": "Python 3.8.10 ('env': venv)",
   "language": "python",
   "name": "python3"
  },
  "language_info": {
   "codemirror_mode": {
    "name": "ipython",
    "version": 3
   },
   "file_extension": ".py",
   "mimetype": "text/x-python",
   "name": "python",
   "nbconvert_exporter": "python",
   "pygments_lexer": "ipython3",
   "version": "3.8.10"
  },
  "orig_nbformat": 4
 },
 "nbformat": 4,
 "nbformat_minor": 2
}
