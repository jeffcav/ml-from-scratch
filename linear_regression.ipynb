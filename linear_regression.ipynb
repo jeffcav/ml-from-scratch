{
 "cells": [
  {
   "cell_type": "code",
   "execution_count": 1,
   "metadata": {},
   "outputs": [],
   "source": [
    "import numpy as np\n",
    "from ml.algorithms.optimizers import GradientDescent, StochasticGradientDescent\n",
    "from ml.models.linear import LinearRegression"
   ]
  },
  {
   "cell_type": "code",
   "execution_count": 2,
   "metadata": {},
   "outputs": [],
   "source": [
    "weights_expected = np.array([[2.0, 3.0]])\n",
    "\n",
    "x = np.array([\n",
    "    [3.0], \n",
    "    [6.0], \n",
    "    [7.0]\n",
    "])\n",
    "y = np.array([\n",
    "    [11.0], \n",
    "    [20.0], \n",
    "    [23.0]\n",
    "])\n",
    "\n",
    "epochs = 5000\n",
    "learning_rate = 0.05\n",
    "regularization = 0"
   ]
  },
  {
   "cell_type": "code",
   "execution_count": 3,
   "metadata": {},
   "outputs": [
    {
     "ename": "TypeError",
     "evalue": "linreg() missing 5 required positional arguments: 'y', 'solver', 'epochs', 'learning_rate', and 'regularization'",
     "output_type": "error",
     "traceback": [
      "\u001b[0;31m---------------------------------------------------------------------------\u001b[0m",
      "\u001b[0;31mTypeError\u001b[0m                                 Traceback (most recent call last)",
      "\u001b[1;32m/home/jeff/dev/ml-from-scratch/linear_regression.ipynb Cell 3'\u001b[0m in \u001b[0;36m<cell line: 9>\u001b[0;34m()\u001b[0m\n\u001b[1;32m      <a href='vscode-notebook-cell:/home/jeff/dev/ml-from-scratch/linear_regression.ipynb#ch0000001?line=4'>5</a>\u001b[0m     \u001b[39mprint\u001b[39m(\u001b[39m\"\u001b[39m\u001b[39mLearned parameters: \u001b[39m\u001b[39m\"\u001b[39m, regressor\u001b[39m.\u001b[39mweights(\u001b[39m0\u001b[39m), \u001b[39m\"\u001b[39m\u001b[39mExpected: \u001b[39m\u001b[39m\"\u001b[39m, weights_expected)\n\u001b[1;32m      <a href='vscode-notebook-cell:/home/jeff/dev/ml-from-scratch/linear_regression.ipynb#ch0000001?line=7'>8</a>\u001b[0m gd \u001b[39m=\u001b[39m GradientDescent()\n\u001b[0;32m----> <a href='vscode-notebook-cell:/home/jeff/dev/ml-from-scratch/linear_regression.ipynb#ch0000001?line=8'>9</a>\u001b[0m linreg(gd)\n\u001b[1;32m     <a href='vscode-notebook-cell:/home/jeff/dev/ml-from-scratch/linear_regression.ipynb#ch0000001?line=10'>11</a>\u001b[0m sgd \u001b[39m=\u001b[39m StochasticGradientDescent()\n\u001b[1;32m     <a href='vscode-notebook-cell:/home/jeff/dev/ml-from-scratch/linear_regression.ipynb#ch0000001?line=11'>12</a>\u001b[0m linreg(sgd)\n",
      "\u001b[0;31mTypeError\u001b[0m: linreg() missing 5 required positional arguments: 'y', 'solver', 'epochs', 'learning_rate', and 'regularization'"
     ]
    }
   ],
   "source": [
    "def linreg(x, y, solver, epochs, learning_rate, regularization):\n",
    "    regressor = LinearRegression()\n",
    "    regressor.fit(x, y, solver, epochs, learning_rate, regularization)\n",
    "\n",
    "    print(\"Learned parameters: \", regressor.weights(0), \"Expected: \", weights_expected)\n",
    "\n",
    "\n",
    "gd = GradientDescent()\n",
    "linreg(x, y, gd, epochs, learning_rate, regularization)\n",
    "\n",
    "sgd = StochasticGradientDescent()\n",
    "linreg(x, y, sgd, epochs, learning_rate, regularization)"
   ]
  }
 ],
 "metadata": {
  "interpreter": {
   "hash": "ca48a1217c93acd9388dba04a449e77fab73d12f699c89515157fda392110c7b"
  },
  "kernelspec": {
   "display_name": "Python 3.8.10 ('env': venv)",
   "language": "python",
   "name": "python3"
  },
  "language_info": {
   "codemirror_mode": {
    "name": "ipython",
    "version": 3
   },
   "file_extension": ".py",
   "mimetype": "text/x-python",
   "name": "python",
   "nbconvert_exporter": "python",
   "pygments_lexer": "ipython3",
   "version": "3.8.10"
  },
  "orig_nbformat": 4
 },
 "nbformat": 4,
 "nbformat_minor": 2
}
