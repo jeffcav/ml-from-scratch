{
 "cells": [
  {
   "cell_type": "code",
   "execution_count": 1,
   "metadata": {},
   "outputs": [],
   "source": [
    "import numpy as np\n",
    "from ml.algorithms.optimization import GradientDescent, StochasticGradientDescent\n",
    "from ml.models.linear import LinearRegression"
   ]
  },
  {
   "cell_type": "code",
   "execution_count": 2,
   "metadata": {},
   "outputs": [],
   "source": [
    "weights_expected = np.array([[2.0, 3.0]])\n",
    "\n",
    "x = np.array([\n",
    "    [3.0], \n",
    "    [6.0], \n",
    "    [7.0]\n",
    "])\n",
    "y = np.array([\n",
    "    [11.0], \n",
    "    [20.0], \n",
    "    [23.0]\n",
    "])\n",
    "\n",
    "epochs = 5000\n",
    "learning_rate = 0.05\n",
    "regularization = 0"
   ]
  },
  {
   "cell_type": "code",
   "execution_count": 4,
   "metadata": {},
   "outputs": [
    {
     "name": "stdout",
     "output_type": "stream",
     "text": [
      "Learned parameters:  [[2. 3.]] Expected:  [[2. 3.]]\n",
      "Learned parameters:  [[2. 3.]] Expected:  [[2. 3.]]\n"
     ]
    }
   ],
   "source": [
    "def linreg(x, y, solver, epochs, learning_rate, regularization):\n",
    "    regressor = LinearRegression()\n",
    "    regressor.fit(x, y, solver, epochs, learning_rate, regularization)\n",
    "\n",
    "    print(\"Learned parameters: \", regressor.weights(0), \"Expected: \", weights_expected)\n",
    "\n",
    "\n",
    "gd = GradientDescent()\n",
    "linreg(x, y, gd, epochs, learning_rate, regularization)\n",
    "\n",
    "sgd = StochasticGradientDescent()\n",
    "linreg(x, y, sgd, epochs, learning_rate, regularization)"
   ]
  }
 ],
 "metadata": {
  "interpreter": {
   "hash": "ca48a1217c93acd9388dba04a449e77fab73d12f699c89515157fda392110c7b"
  },
  "kernelspec": {
   "display_name": "Python 3.8.10 ('env': venv)",
   "language": "python",
   "name": "python3"
  },
  "language_info": {
   "codemirror_mode": {
    "name": "ipython",
    "version": 3
   },
   "file_extension": ".py",
   "mimetype": "text/x-python",
   "name": "python",
   "nbconvert_exporter": "python",
   "pygments_lexer": "ipython3",
   "version": "3.8.10"
  },
  "orig_nbformat": 4
 },
 "nbformat": 4,
 "nbformat_minor": 2
}
