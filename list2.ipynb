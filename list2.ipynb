{
 "cells": [
  {
   "cell_type": "code",
   "execution_count": null,
   "metadata": {},
   "outputs": [],
   "source": [
    "# model implementation\n",
    "from ml.models.linear import LogisticRegression\n",
    "from ml.algorithms.optimization import GradientDescent\n",
    "\n",
    "# model selection\n",
    "from ml.model_selection import GridSearchCV\n",
    "from ml.functions.metrics.classification import F1Score\n",
    "from ml.stats import ClassificationStats\n",
    "\n",
    "# data manipulation\n",
    "from ml.dataset import load_csv, split_train_test\n",
    "from ml.algorithms.normalization import MinMaxScaler\n",
    "\n",
    "import numpy as np\n",
    "import matplotlib.pyplot as plt\n",
    "\n",
    "np.random.seed(25)"
   ]
  },
  {
   "cell_type": "markdown",
   "metadata": {},
   "source": [
    "## Q1"
   ]
  },
  {
   "cell_type": "code",
   "execution_count": null,
   "metadata": {},
   "outputs": [],
   "source": [
    "X, y = load_csv('./datasets/breastcancer.csv')\n",
    "X_train, y_train, X_test, y_test = split_train_test(X, y, 0.8, shuffle=True)"
   ]
  },
  {
   "cell_type": "markdown",
   "metadata": {},
   "source": [
    "## Q1.a\n",
    "### Logistic regression using Gradient Descent and grid search with k-fold cross-validation"
   ]
  },
  {
   "cell_type": "code",
   "execution_count": null,
   "metadata": {},
   "outputs": [],
   "source": [
    "grid = GridSearchCV(stats_generator=ClassificationStats)\n",
    "\n",
    "i=0\n",
    "for regularization_term in [0.01, 0.001]:\n",
    "    for learning_rate in [0.1, 0.05, 0.01]:\n",
    "        grid.add(LogisticRegression, {\n",
    "            \"solver\": GradientDescent(epochs=4000, learning_rate=learning_rate, regularization=regularization_term, metrics=F1Score()),\n",
    "            \"dataScaler\": MinMaxScaler})\n",
    "        \n",
    "        print(f\"Grid search candidate {i}: Logistic regression, learning rate={learning_rate}, regularization={regularization_term}, score=F1-score\")\n",
    "        i+=1\n",
    "\n",
    "best = grid.search(X_train, y_train,num_folds=10, score=F1Score(), score_minimize=False, shuffle=True)"
   ]
  },
  {
   "cell_type": "code",
   "execution_count": null,
   "metadata": {},
   "outputs": [],
   "source": [
    "# Best model information\n",
    "solver = grid.best_model_params['solver']\n",
    "print(\"Best candidate:\", grid.index_of_best, \"- Learning rate:\", solver.learning_rate, \"- Regularization term:\", solver.regularization)\n",
    "\n",
    "model = grid.best_model(**grid.best_model_params)\n",
    "training_score = model.fit(X_train, y_train)\n",
    "\n",
    "plt.plot(training_score)\n",
    "plt.title(\"Training F1-score of best model\")\n",
    "plt.show()"
   ]
  },
  {
   "cell_type": "markdown",
   "metadata": {},
   "source": [
    "## Q1.b\n",
    "### Logistic regression"
   ]
  },
  {
   "cell_type": "code",
   "execution_count": null,
   "metadata": {},
   "outputs": [],
   "source": [
    "num_candidates = len(grid.candidates)\n",
    "k=0\n",
    "plt.figure(figsize=(30, 4))\n",
    "plt.suptitle(\"Logistic Regression hyperparameter evaluation\", fontsize=20)\n",
    "plt.subplots_adjust(top=0.7)\n",
    "for metric in ['f1', 'recall', 'precision', 'binary_accuracy']:\n",
    "    means = []\n",
    "    std = []\n",
    "    for i in range(num_candidates):\n",
    "        means.append(np.mean(grid.stats[i].stats[\"values\"][metric]))\n",
    "        std.append(np.std(grid.stats[i].stats[\"values\"][metric]))\n",
    "    plt.subplot(1, 4, k+1)\n",
    "    plt.title(f\"Mean {metric}\", fontsize=20)\n",
    "    plt.errorbar(np.arange(num_candidates), means, std, fmt='ok', lw=3)\n",
    "    plt.errorbar(grid.index_of_best, means[grid.index_of_best], std[grid.index_of_best], ecolor='red', fmt='ok', lw=3)\n",
    "    plt.xticks(np.arange(num_candidates), labels=np.arange(num_candidates)+1)\n",
    "    plt.xlabel(\"Candidate\", fontsize=16)\n",
    "    plt.ylabel(metric, fontsize=16)\n",
    "    k+=1"
   ]
  }
 ],
 "metadata": {
  "interpreter": {
   "hash": "ca48a1217c93acd9388dba04a449e77fab73d12f699c89515157fda392110c7b"
  },
  "kernelspec": {
   "display_name": "Python 3.8.10 ('env': venv)",
   "language": "python",
   "name": "python3"
  },
  "language_info": {
   "codemirror_mode": {
    "name": "ipython",
    "version": 3
   },
   "file_extension": ".py",
   "mimetype": "text/x-python",
   "name": "python",
   "nbconvert_exporter": "python",
   "pygments_lexer": "ipython3",
   "version": "3.8.10"
  },
  "orig_nbformat": 4
 },
 "nbformat": 4,
 "nbformat_minor": 2
}
