{
 "cells": [
  {
   "cell_type": "code",
   "execution_count": 1,
   "metadata": {},
   "outputs": [],
   "source": [
    "# model implementation\n",
    "from ml.models.linear import LogisticRegression\n",
    "from ml.algorithms.optimization import GradientDescent\n",
    "from ml.models.statistical import GaussianDiscriminantAnalysis\n",
    "\n",
    "# model selection\n",
    "from ml.model_selection import GridSearchCV\n",
    "from ml.functions.metrics.classification import F1Score, BinaryAccuracy\n",
    "from ml.stats import ClassificationStats\n",
    "\n",
    "# data manipulation\n",
    "from ml.dataset import load_csv, split_train_test\n",
    "from ml.algorithms.normalization import MinMaxScaler\n",
    "\n",
    "import numpy as np\n",
    "import matplotlib.pyplot as plt\n",
    "\n",
    "np.random.seed(25)"
   ]
  },
  {
   "cell_type": "markdown",
   "metadata": {},
   "source": [
    "## Q1, Q2 - Logistic Regression"
   ]
  },
  {
   "cell_type": "markdown",
   "metadata": {},
   "source": [
    "### Load dataset"
   ]
  },
  {
   "cell_type": "code",
   "execution_count": 2,
   "metadata": {},
   "outputs": [],
   "source": [
    "X, y = load_csv('./datasets/breastcancer.csv')\n",
    "X_train, y_train, X_test, y_test = split_train_test(X, y, 0.8, shuffle=True)"
   ]
  },
  {
   "cell_type": "markdown",
   "metadata": {},
   "source": [
    "### Find best hyperparameters for Logistic Regression with grid search and k-fold with k=10"
   ]
  },
  {
   "cell_type": "code",
   "execution_count": 3,
   "metadata": {},
   "outputs": [
    {
     "name": "stdout",
     "output_type": "stream",
     "text": [
      "LR candidate 0: learning rate=0.1, regularization=0.01\n",
      "LR candidate 1: learning rate=0.01, regularization=0.01\n",
      "LR candidate 2: learning rate=0.1, regularization=0.001\n",
      "LR candidate 3: learning rate=0.01, regularization=0.001\n"
     ]
    }
   ],
   "source": [
    "grid = GridSearchCV(stats_generator=ClassificationStats)\n",
    "\n",
    "for lambda_reg in [0.01, 0.001]:\n",
    "    for alpha_lr in [0.1, 0.01]:\n",
    "        \n",
    "        print(f\"LR candidate {len(grid.candidates)}: learning rate={alpha_lr}, regularization={lambda_reg}\")        \n",
    "        \n",
    "        grid.add(LogisticRegression, {\n",
    "            \"solver\": GradientDescent(epochs=4000, learning_rate=alpha_lr, regularization=lambda_reg, metrics=F1Score()),\n",
    "            \"dataScaler\": MinMaxScaler})\n",
    "\n",
    "best = grid.search(X_train, y_train, num_folds=10, score=F1Score(), score_minimize=False, shuffle=False)"
   ]
  },
  {
   "cell_type": "markdown",
   "metadata": {},
   "source": [
    "### Train Logistic Regresion with our best hyperparameters"
   ]
  },
  {
   "cell_type": "code",
   "execution_count": 4,
   "metadata": {},
   "outputs": [
    {
     "name": "stdout",
     "output_type": "stream",
     "text": [
      "Best candidate: 2 - Learning rate: 0.1 - Regularization term: 0.001\n"
     ]
    },
    {
     "data": {
      "image/png": "[encoded data removed]",
      "text/plain": [
       "<Figure size 432x288 with 1 Axes>"
      ]
     },
     "metadata": {
      "needs_background": "light"
     },
     "output_type": "display_data"
    }
   ],
   "source": [
    "solver = grid.best_model_params['solver']\n",
    "print(\"Best candidate:\", grid.index_of_best, \"- Learning rate:\", solver.learning_rate, \"- Regularization term:\", solver.regularization)\n",
    "\n",
    "model = grid.best_model(**grid.best_model_params)\n",
    "training_score = model.fit(X_train, y_train)\n",
    "\n",
    "plt.plot(training_score)\n",
    "plt.title(\"Training F1-score of best model\")\n",
    "plt.show()"
   ]
  },
  {
   "cell_type": "markdown",
   "metadata": {},
   "source": [
    "### Plot mean and standard deviation of F1-score, Accuracy, Recall and Precision during K-fold"
   ]
  },
  {
   "cell_type": "code",
   "execution_count": 12,
   "metadata": {},
   "outputs": [
    {
     "ename": "NameError",
     "evalue": "name 'grid' is not defined",
     "output_type": "error",
     "traceback": [
      "\u001b[0;31m---------------------------------------------------------------------------\u001b[0m",
      "\u001b[0;31mNameError\u001b[0m                                 Traceback (most recent call last)",
      "\u001b[1;32m/home/jeff/dev/ml-from-scratch/list2.ipynb Cell 10'\u001b[0m in \u001b[0;36m<cell line: 1>\u001b[0;34m()\u001b[0m\n\u001b[0;32m----> <a href='vscode-notebook-cell:/home/jeff/dev/ml-from-scratch/list2.ipynb#ch0000025?line=0'>1</a>\u001b[0m num_candidates \u001b[39m=\u001b[39m \u001b[39mlen\u001b[39m(grid\u001b[39m.\u001b[39mcandidates)\n\u001b[1;32m      <a href='vscode-notebook-cell:/home/jeff/dev/ml-from-scratch/list2.ipynb#ch0000025?line=1'>2</a>\u001b[0m k\u001b[39m=\u001b[39m\u001b[39m0\u001b[39m\n\u001b[1;32m      <a href='vscode-notebook-cell:/home/jeff/dev/ml-from-scratch/list2.ipynb#ch0000025?line=2'>3</a>\u001b[0m plt\u001b[39m.\u001b[39mfigure(figsize\u001b[39m=\u001b[39m(\u001b[39m30\u001b[39m, \u001b[39m4\u001b[39m))\n",
      "\u001b[0;31mNameError\u001b[0m: name 'grid' is not defined"
     ]
    }
   ],
   "source": [
    "num_candidates = len(grid.candidates)\n",
    "k=0\n",
    "plt.figure(figsize=(30, 4))\n",
    "plt.suptitle(\"Logistic Regression\", fontsize=20)\n",
    "plt.subplots_adjust(top=0.7)\n",
    "for metric in ['f1', 'recall', 'precision', 'binary_accuracy']:\n",
    "    means = []\n",
    "    std = []\n",
    "    \n",
    "    for i in range(num_candidates):\n",
    "        means.append(np.mean(grid.stats[i].stats[\"values\"][metric]))\n",
    "        std.append(np.std(grid.stats[i].stats[\"values\"][metric]))\n",
    "\n",
    "    plt.subplot(1, 4, k+1)\n",
    "    plt.errorbar(np.arange(num_candidates), means, std, fmt='ok', lw=3)\n",
    "    plt.errorbar(grid.index_of_best, means[grid.index_of_best], std[grid.index_of_best], ecolor='red', fmt='ok', lw=3)\n",
    "    \n",
    "    plt.title(metric.upper() + \" mean and std deviation\", fontsize=20)\n",
    "    plt.xticks(np.arange(num_candidates), labels=np.arange(num_candidates)+1)\n",
    "    plt.xlabel(\"Candidate\", fontsize=16)\n",
    "    plt.ylabel(metric, fontsize=16)\n",
    "\n",
    "    print(metric.upper(), \"-\", means, \"+-\", std)\n",
    "    \n",
    "    k+=1"
   ]
  },
  {
   "cell_type": "markdown",
   "metadata": {},
   "source": [
    "## Q1,Q2 - Gaussian Discriminant Analysis"
   ]
  },
  {
   "cell_type": "markdown",
   "metadata": {},
   "source": [
    "### Load dataset"
   ]
  },
  {
   "cell_type": "code",
   "execution_count": 3,
   "metadata": {},
   "outputs": [],
   "source": [
    "X, y = load_csv('./datasets/breastcancer.csv')\n",
    "\n",
    "# Our gaussian discriminant analysis requires y to be integer and with shape (N,)\n",
    "y = y.astype(int).squeeze()\n",
    "\n",
    "X_train, y_train, X_test, y_test = split_train_test(X, y, 0.8, shuffle=True)"
   ]
  },
  {
   "cell_type": "markdown",
   "metadata": {},
   "source": [
    "### Leverage our Grid Search with Cross-Validation class to run K-fold with k=10"
   ]
  },
  {
   "cell_type": "code",
   "execution_count": 6,
   "metadata": {},
   "outputs": [],
   "source": [
    "grid_gda = GridSearchCV(stats_generator=ClassificationStats)\n",
    "grid_gda.add(GaussianDiscriminantAnalysis, {})\n",
    "grid_gda.search(X_train, y_train, num_folds=10, score=BinaryAccuracy(), score_minimize=False, shuffle=False)"
   ]
  },
  {
   "cell_type": "markdown",
   "metadata": {},
   "source": [
    "### Train GDA and present its accuracy"
   ]
  },
  {
   "cell_type": "code",
   "execution_count": 9,
   "metadata": {},
   "outputs": [
    {
     "name": "stdout",
     "output_type": "stream",
     "text": [
      "F1-score: 0.9714285714285714\n",
      "Accuracy: 0.9649122807017544\n"
     ]
    }
   ],
   "source": [
    "gda = grid_gda.best_model(**grid_gda.best_model_params)\n",
    "gda.fit(X_train, y_train)\n",
    "\n",
    "print(\"F1-score:\", F1Score().measure(y_test, gda.predict(X_test)))\n",
    "print(\"Accuracy:\", BinaryAccuracy().measure(y_test, gda.predict(X_test)))"
   ]
  },
  {
   "cell_type": "markdown",
   "metadata": {},
   "source": [
    "### Plot mean and standard deviation of F1-score, Accuracy, Recall and Precision during K-fold"
   ]
  },
  {
   "cell_type": "code",
   "execution_count": 11,
   "metadata": {},
   "outputs": [
    {
     "name": "stdout",
     "output_type": "stream",
     "text": [
      "F1 - [0.9654765004207851] +- [0.022148816199022658]\n",
      "RECALL - [0.9629119798882195] +- [0.02710718473778025]\n",
      "PRECISION - [0.969204928348151] +- [0.03598416211218145]\n",
      "BINARY_ACCURACY - [0.9559903381642512] +- [0.029495869222608575]\n"
     ]
    },
    {
     "data": {
      "image/png": "[encoded data removed]",
      "text/plain": [
       "<Figure size 2160x288 with 4 Axes>"
      ]
     },
     "metadata": {
      "needs_background": "light"
     },
     "output_type": "display_data"
    }
   ],
   "source": [
    "num_candidates = len(grid_gda.candidates)\n",
    "k=0\n",
    "plt.figure(figsize=(30, 4))\n",
    "plt.suptitle(\"Logistic Regression\", fontsize=20)\n",
    "plt.subplots_adjust(top=0.7)\n",
    "for metric in ['f1', 'recall', 'precision', 'binary_accuracy']:\n",
    "    means = []\n",
    "    std = []\n",
    "    \n",
    "    for i in range(num_candidates):\n",
    "        means.append(np.mean(grid_gda.stats[i].stats[\"values\"][metric]))\n",
    "        std.append(np.std(grid_gda.stats[i].stats[\"values\"][metric]))\n",
    "\n",
    "    plt.subplot(1, 4, k+1)\n",
    "    plt.errorbar(np.arange(num_candidates), means, std, fmt='ok', lw=3)\n",
    "    \n",
    "    plt.title(metric.upper() + \" mean and std deviation\", fontsize=20)\n",
    "    plt.xticks(np.arange(num_candidates), labels=np.arange(num_candidates)+1)\n",
    "    plt.xlabel(\"Candidate\", fontsize=16)\n",
    "    plt.ylabel(metric, fontsize=16)\n",
    "    \n",
    "    k+=1\n",
    "\n",
    "    print(metric.upper(), \"-\", means, \"+-\", std)"
   ]
  },
  {
   "cell_type": "markdown",
   "metadata": {},
   "source": [
    "## Q1,Q2 - Gaussian Naive Bayes\n",
    "### Load dataset"
   ]
  }
 ],
 "metadata": {
  "interpreter": {
   "hash": "ca48a1217c93acd9388dba04a449e77fab73d12f699c89515157fda392110c7b"
  },
  "kernelspec": {
   "display_name": "Python 3.8.10 ('env': venv)",
   "language": "python",
   "name": "python3"
  },
  "language_info": {
   "codemirror_mode": {
    "name": "ipython",
    "version": 3
   },
   "file_extension": ".py",
   "mimetype": "text/x-python",
   "name": "python",
   "nbconvert_exporter": "python",
   "pygments_lexer": "ipython3",
   "version": "3.8.10"
  },
  "orig_nbformat": 4
 },
 "nbformat": 4,
 "nbformat_minor": 2
}
