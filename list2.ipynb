{
 "cells": [
  {
   "cell_type": "code",
   "execution_count": null,
   "metadata": {},
   "outputs": [],
   "source": [
    "# model implementation\n",
    "from ml.models.linear import LogisticRegression\n",
    "from ml.algorithms.optimization import GradientDescent\n",
    "\n",
    "# model selection\n",
    "from ml.model_selection import GridSearchCV\n",
    "from ml.functions.metrics.classification import F1Score\n",
    "from ml.stats import ClassificationStats\n",
    "\n",
    "# data manipulation\n",
    "from ml.dataset import load_csv, split_train_test\n",
    "from ml.algorithms.normalization import MinMaxScaler\n",
    "\n",
    "import numpy as np\n",
    "import matplotlib.pyplot as plt\n",
    "\n",
    "np.random.seed(25)"
   ]
  },
  {
   "cell_type": "markdown",
   "metadata": {},
   "source": [
    "## Q1"
   ]
  },
  {
   "cell_type": "code",
   "execution_count": null,
   "metadata": {},
   "outputs": [],
   "source": [
    "X, y = load_csv('./datasets/breastcancer.csv')\n",
    "X_train, y_train, X_test, y_test = split_train_test(X, y, 0.8, shuffle=True)"
   ]
  },
  {
   "cell_type": "markdown",
   "metadata": {},
   "source": [
    "## Q1.a\n",
    "### Logistic regression using Gradient Descent and grid search with k-fold cross-validation"
   ]
  },
  {
   "cell_type": "code",
   "execution_count": null,
   "metadata": {},
   "outputs": [],
   "source": [
    "grid = GridSearchCV(stats_generator=ClassificationStats)\n",
    "\n",
    "# configure grid search with various models\n",
    "for regularization_term in [0.01, 0.001]:\n",
    "    for learning_rate in [0.1, 0.05, 0.01]:\n",
    "        grid.add(LogisticRegression, {\n",
    "            \"solver\": GradientDescent(\n",
    "                epochs=4000,\n",
    "                learning_rate=learning_rate,\n",
    "                regularization=regularization_term),\n",
    "            \"dataScaler\": MinMaxScaler\n",
    "        })\n",
    "\n",
    "# evaluate each model using grid search with k-fold cross-validation and k=10\n",
    "best = grid.search(X_train, y_train,num_folds=10, score=F1Score(), score_minimize=False, shuffle=True)"
   ]
  },
  {
   "cell_type": "code",
   "execution_count": null,
   "metadata": {},
   "outputs": [],
   "source": [
    "print(\"[BEST LOGISTIC REGRESSION] Candidate:\", grid.index_of_best, \"- Learning rate:\", best[1]['solver'].learning_rate, \"- Regularization term:\", best[1]['solver'].regularization)"
   ]
  },
  {
   "cell_type": "markdown",
   "metadata": {},
   "source": [
    "## Q1.b\n",
    "### Logistic regression"
   ]
  },
  {
   "cell_type": "code",
   "execution_count": null,
   "metadata": {},
   "outputs": [],
   "source": [
    "num_candidates = len(grid.candidates)\n",
    "k=0\n",
    "plt.figure(figsize=(30, 4))\n",
    "for metric in ['f1', 'recall', 'precision', 'binary_accuracy']:\n",
    "    means = []\n",
    "    std = []\n",
    "\n",
    "    for i in range(num_candidates):\n",
    "        means.append(np.mean(grid.stats[i].stats[\"values\"][metric]))\n",
    "        std.append(np.std(grid.stats[i].stats[\"values\"][metric]))\n",
    "\n",
    "    plt.subplot(1, 4, k+1)\n",
    "    plt.title(f\"mean {metric}\", fontsize=20)\n",
    "    plt.errorbar(np.arange(num_candidates), means, std, fmt='ok', lw=3)\n",
    "    plt.xticks(np.arange(num_candidates), labels=np.arange(num_candidates)+1)\n",
    "    plt.xlabel(\"Candidate\", fontsize=16)\n",
    "    plt.ylabel(metric, fontsize=16)\n",
    "    k+=1\n",
    "\n"
   ]
  }
 ],
 "metadata": {
  "interpreter": {
   "hash": "ca48a1217c93acd9388dba04a449e77fab73d12f699c89515157fda392110c7b"
  },
  "kernelspec": {
   "display_name": "Python 3.8.10 ('env': venv)",
   "language": "python",
   "name": "python3"
  },
  "language_info": {
   "codemirror_mode": {
    "name": "ipython",
    "version": 3
   },
   "file_extension": ".py",
   "mimetype": "text/x-python",
   "name": "python",
   "nbconvert_exporter": "python",
   "pygments_lexer": "ipython3",
   "version": "3.8.10"
  },
  "orig_nbformat": 4
 },
 "nbformat": 4,
 "nbformat_minor": 2
}
